{
  "nbformat": 4,
  "nbformat_minor": 0,
  "metadata": {
    "colab": {
      "provenance": [],
      "gpuType": "T4",
      "include_colab_link": true
    },
    "kernelspec": {
      "name": "python3",
      "display_name": "Python 3"
    },
    "language_info": {
      "name": "python"
    },
    "accelerator": "GPU"
  },
  "cells": [
    {
      "cell_type": "markdown",
      "metadata": {
        "id": "view-in-github",
        "colab_type": "text"
      },
      "source": [
        "<a href=\"https://colab.research.google.com/github/xDocka15/MPA-MLF_Dockal/blob/main/MLF_project.ipynb\" target=\"_parent\"><img src=\"https://colab.research.google.com/assets/colab-badge.svg\" alt=\"Open In Colab\"/></a>"
      ]
    },
    {
      "cell_type": "code",
      "execution_count": 109,
      "metadata": {
        "id": "89b9242qeB4Q"
      },
      "outputs": [],
      "source": [
        "!pip install keras-tuner --quiet\n",
        "\n",
        "# Imports\n",
        "from tensorflow import keras\n",
        "from tensorflow.keras.models import Sequential\n",
        "from tensorflow.keras.datasets import mnist\n",
        "import numpy as np\n",
        "import matplotlib.pyplot as plt\n",
        "import pandas as pd\n",
        "\n",
        "from sklearn.preprocessing import StandardScaler\n",
        "from tensorflow.keras.layers import Conv2D, MaxPooling2D, Flatten, Dense, Dropout\n",
        "from tensorflow.keras.utils import to_categorical\n",
        "from tensorflow.keras.optimizers import Adam\n",
        "from google.colab import drive\n",
        "from google.colab import files\n",
        "import os\n",
        "from tensorflow.keras.layers import Input\n",
        "\n",
        "from kerastuner.tuners import RandomSearch\n",
        "from kerastuner.tuners import Hyperband\n",
        "from tensorflow.keras.layers import BatchNormalization\n",
        "from keras_tuner import BayesianOptimization\n",
        "from tensorflow.keras.callbacks import EarlyStopping\n",
        "from tensorflow.keras.layers import GlobalAveragePooling2D\n",
        "from tensorflow.keras import regularizers\n",
        "\n"
      ]
    },
    {
      "cell_type": "code",
      "source": [
        "# Mount Google Drive\n",
        "drive.mount('/content/drive')\n",
        "\n",
        "# file paths\n",
        "label_path = '/content/drive/MyDrive/MPA-MLF_DATA_NEW/label_train.csv'\n",
        "npy_path = '/content/drive/MyDrive/MPA-MLF_DATA_NEW/Train'\n",
        "\n",
        "# Load CSV file of labels for training\n",
        "pd_dataset_train_label = pd.read_csv(label_path)\n",
        "print(pd_dataset_train_label)\n",
        "\n",
        "# load npy files for training\n",
        "files = sorted([f for f in os.listdir(npy_path)], key=lambda f: int(f.replace('.npy', '')))\n",
        "\n",
        "file_path = os.path.join(npy_path, files[426])  # Create the full path to the .npy file\n",
        "data = np.load(file_path)\n",
        "\n",
        "# print data\n",
        "print(data)\n",
        "print(data.shape)\n",
        "\n",
        "# plotting 2D graph of values from one file\n",
        "plt.imshow(data, cmap='binary')  # 'binary' gives a two-color map (black and white)\n",
        "plt.show()\n",
        "\n",
        "# checking for a range\n",
        "print(\"Min:\", data.min())\n",
        "print(\"Max:\", data.max())\n",
        "\n",
        "# showing how the npy train data are in the files:\n",
        "print(files[:10])"
      ],
      "metadata": {
        "colab": {
          "base_uri": "https://localhost:8080/",
          "height": 989
        },
        "id": "Va3glbWS8OvO",
        "outputId": "725f1a07-6499-4e46-8d1d-b801d2b9cd9f"
      },
      "execution_count": 110,
      "outputs": [
        {
          "output_type": "stream",
          "name": "stdout",
          "text": [
            "Drive already mounted at /content/drive; to attempt to forcibly remount, call drive.mount(\"/content/drive\", force_remount=True).\n",
            "        ID  target\n",
            "0        0       0\n",
            "1        1       0\n",
            "2        2       0\n",
            "3        3       0\n",
            "4        4       0\n",
            "...    ...     ...\n",
            "1486  1486       0\n",
            "1487  1487       1\n",
            "1488  1488       0\n",
            "1489  1489       0\n",
            "1490  1490       0\n",
            "\n",
            "[1491 rows x 2 columns]\n",
            "[[-25.30056666 -34.54445688 -44.03216144 ... -33.43543411 -42.21318327\n",
            "  -44.20080567]\n",
            " [-37.21657168 -28.83796589 -45.97329178 ... -34.13235963 -30.72768686\n",
            "  -41.97746687]\n",
            " [-34.31051981 -38.17045981 -44.83255253 ... -34.5931764  -46.7704932\n",
            "  -58.31586657]\n",
            " ...\n",
            " [-24.81139496 -24.35527671 -40.74519981 ... -11.69126833 -52.23467135\n",
            "  -61.16893254]\n",
            " [-33.45241254 -33.25408695 -41.33245363 ... -34.77979018 -40.67456753\n",
            "  -54.4493282 ]\n",
            " [-30.01098193 -26.85445864 -32.99086054 ... -34.30945241 -51.58250692\n",
            "  -59.80397625]]\n",
            "(72, 48)\n"
          ]
        },
        {
          "output_type": "display_data",
          "data": {
            "text/plain": [
              "<Figure size 640x480 with 1 Axes>"
            ],
            "image/png": "[encoded data removed]"
          },
          "metadata": {}
        },
        {
          "output_type": "stream",
          "name": "stdout",
          "text": [
            "Min: -61.16893254149212\n",
            "Max: 19.670490087247735\n",
            "['0.npy', '1.npy', '2.npy', '3.npy', '4.npy', '5.npy', '6.npy', '7.npy', '8.npy', '9.npy']\n"
          ]
        }
      ]
    },
    {
      "cell_type": "code",
      "source": [
        "# preparing list for the files from the Train folder\n",
        "# Load each file and collect into a list\n",
        "X_train = [np.load(os.path.join(npy_path, f)) for f in files]\n",
        "# stack into array\n",
        "X_train = np.stack(X_train)\n",
        "\n",
        "# showing shape of X_train\n",
        "print(X_train.shape)\n",
        "\n",
        "# Flatten: (1491, 72, 48) → (1491, 72 * 48)\n",
        "X_train_flat = X_train.reshape(X_train.shape[0], -1)\n",
        "\n",
        "# Standardize\n",
        "scaler = StandardScaler()\n",
        "X_scaled_flat = scaler.fit_transform(X_train_flat)\n",
        "\n",
        "# Reshape back: (1491, 72, 48)\n",
        "X_scaled = X_scaled_flat.reshape(X_train.shape)\n",
        "\n",
        "# showing shape of X_train scaled back after standardize\n",
        "print(X_scaled.shape)\n",
        "\n",
        "# hot end encode for labels\n",
        "train_labels_encoded = pd.get_dummies(pd_dataset_train_label, columns=['target'])\n",
        "train_labels_encoded = train_labels_encoded.astype(int)\n",
        "train_labels_encoded = train_labels_encoded.drop(columns=['ID'])\n",
        "\n",
        "# show encoded targets\n",
        "print(train_labels_encoded)"
      ],
      "metadata": {
        "colab": {
          "base_uri": "https://localhost:8080/"
        },
        "id": "2Gdc5ztY3tQv",
        "outputId": "3dd2d8da-c5f8-47c3-8077-92326afdac3d"
      },
      "execution_count": 111,
      "outputs": [
        {
          "output_type": "stream",
          "name": "stdout",
          "text": [
            "(1491, 72, 48)\n",
            "(1491, 72, 48)\n",
            "      target_0  target_1  target_2\n",
            "0            1         0         0\n",
            "1            1         0         0\n",
            "2            1         0         0\n",
            "3            1         0         0\n",
            "4            1         0         0\n",
            "...        ...       ...       ...\n",
            "1486         1         0         0\n",
            "1487         0         1         0\n",
            "1488         1         0         0\n",
            "1489         1         0         0\n",
            "1490         1         0         0\n",
            "\n",
            "[1491 rows x 3 columns]\n"
          ]
        }
      ]
    },
    {
      "cell_type": "code",
      "source": [
        "# model architecture - first structure:\n",
        "#model = Sequential()\n",
        "#model.add(Conv2D(32, (3, 3), activation='relu', input_shape=(72, 48, 1)))\n",
        "#model.add(MaxPooling2D((2, 2)))\n",
        "#model.add(Conv2D(64, (3, 3), activation='relu'))\n",
        "#model.add(MaxPooling2D((2, 2)))\n",
        "#model.add(Flatten())\n",
        "#model.add(Dense(64, activation='relu'))\n",
        "#model.add(Dense(3, activation='softmax'))\n",
        "\n",
        "# delete previous tuning\n",
        "import shutil\n",
        "shutil.rmtree('tuning_dir/cnn_tuning', ignore_errors=True)\n",
        "\n",
        "#definition of model in a function for using in hyperparameter tuning\n",
        "def build_model(hp):\n",
        "    model = Sequential()\n",
        "\n",
        "    #kernel_regularizer=keras.regularizers.l2(hp.Float('l2', 1e-5, 1e-2, sampling='log'))\n",
        "\n",
        "    model.add(Input(shape=(72, 48, 1)))\n",
        "\n",
        "    model.add(Conv2D(\n",
        "        filters=hp.Choice('conv1_filters', values=[16, 32, 64, 128]),\n",
        "        kernel_size=(3, 3),\n",
        "        activation='relu',\n",
        "        kernel_regularizer=regularizers.l2(\n",
        "        hp.Float('l2', 1e-5, 1e-2, sampling='log')\n",
        "    )\n",
        "    ))\n",
        "    model.add(MaxPooling2D((2, 2)))\n",
        "\n",
        "    if hp.Boolean('use_batchnorm_first'):\n",
        "        model.add(BatchNormalization())\n",
        "\n",
        "\n",
        "    # Optional second conv layer\n",
        "    if hp.Boolean('use_second_conv'):\n",
        "        model.add(Conv2D(\n",
        "            filters=hp.Choice('conv2_filters', [16, 32, 64, 128]),\n",
        "            kernel_size=(3, 3),\n",
        "            activation='relu',\n",
        "            kernel_regularizer=regularizers.l2(\n",
        "        hp.Float('l2', 1e-5, 1e-2, sampling='log')\n",
        "    )\n",
        "        ))\n",
        "        model.add(MaxPooling2D((2, 2)))\n",
        "\n",
        "    if hp.Boolean('use_batchnorm_second'):\n",
        "        model.add(BatchNormalization())\n",
        "\n",
        "            # Optional third conv layer\n",
        "    if hp.Boolean('use_third_conv'):\n",
        "        model.add(Conv2D(\n",
        "            filters=hp.Choice('conv3_filters', [16, 32, 64, 128]),\n",
        "            kernel_size=(3, 3),\n",
        "            activation='relu',\n",
        "            kernel_regularizer=regularizers.l2(\n",
        "        hp.Float('l2', 1e-5, 1e-2, sampling='log')\n",
        "    )\n",
        "        ))\n",
        "        model.add(MaxPooling2D((2, 2)))\n",
        "\n",
        "    if hp.Boolean('use_batchnorm_third'):\n",
        "        model.add(BatchNormalization())\n",
        "\n",
        "    if hp.Boolean('use_gap'):\n",
        "        model.add(GlobalAveragePooling2D())\n",
        "    else:\n",
        "        model.add(Flatten())\n",
        "\n",
        "    model.add(Dense(\n",
        "        units=hp.Choice('dense_units', values=[16, 32, 64, 128]),\n",
        "        activation='relu',\n",
        "        kernel_regularizer=regularizers.l2(\n",
        "        hp.Float('l2', 1e-5, 1e-2, sampling='log')\n",
        "    )\n",
        "    ))\n",
        "\n",
        "    if hp.Boolean('use_second_dense'):\n",
        "        model.add(Dense(units=hp.Choice('dense2_units', [16, 32, 64, 128]), activation='relu'))\n",
        "\n",
        "    # Optional dropout\n",
        "    if hp.Boolean('use_dropout'):\n",
        "        model.add(Dropout(rate=hp.Float('dropout_rate', 0.1, 0.5, step=0.1)))\n",
        "\n",
        "    model.add(Dense(3, activation='softmax'))\n",
        "\n",
        "    model.compile(\n",
        "        optimizer=Adam(learning_rate=hp.Choice('lr', values=[1e-2, 1e-3, 1e-4])),\n",
        "        loss='categorical_crossentropy',\n",
        "        metrics=['accuracy']\n",
        "    )\n",
        "\n",
        "    return model\n",
        "\n",
        "# tuner to get the hyperparameters:\n",
        "#tuner = RandomSearch(\n",
        "#    build_model,\n",
        "#    objective='val_accuracy',\n",
        "#    max_trials=20,\n",
        "#    directory='tuning_dir',\n",
        "#    project_name='cnn_tuning'\n",
        "#)\n",
        "\n",
        "\n",
        "#tuner = Hyperband(\n",
        "#    build_model,\n",
        "#    objective='val_loss',\n",
        "#    max_epochs=20,\n",
        "#    factor=5,  # Optional: controls early-stopping aggressiveness\n",
        "#    directory='tuning_dir',\n",
        "#    project_name='cnn_tuning'\n",
        "#)\n",
        "\n",
        "tuner = BayesianOptimization(\n",
        "    build_model,  # your model-building function\n",
        "    objective='val_loss',  # or 'val_loss', etc.\n",
        "    max_trials=20,             # total number of different hyperparameter combinations to try\n",
        "    num_initial_points=5,      # number of random trials before Bayesian optimization kicks in\n",
        "    directory='tuning_dir',    # where to store results\n",
        "    project_name='cnn_bayes'   # name of the project/folder\n",
        ")\n",
        "\n",
        "# run the tuner\n",
        "tuner.search(\n",
        "    X_scaled.reshape(-1, 72, 48, 1),  # Reshaping your data to match the input\n",
        "    train_labels_encoded,\n",
        "    epochs=20,\n",
        "    validation_split=0.2,\n",
        "    callbacks=[EarlyStopping(monitor='val_loss', patience=2)],\n",
        "    batch_size=64,\n",
        "    verbose=2\n",
        ")\n",
        "\n",
        "# printing the tuned hyperparameters of the model:\n",
        "best_hps = tuner.get_best_hyperparameters(1)[0]\n",
        "print(\"\\nBest Hyperparameters:\")\n",
        "for hp_name in best_hps.values.keys():\n",
        "    print(f\"{hp_name}: {best_hps.get(hp_name)}\")\n",
        "\n",
        "#print(\"Best conv1_filters:\", best_hps.get('conv1_filters'))\n",
        "#print(\"Best conv2_filters:\", best_hps.get('conv2_filters'))\n",
        "#print(\"Best dense_units:\", best_hps.get('dense_units'))\n",
        "#print(\"Best learning rate:\", best_hps.get('lr'))\n",
        "\n",
        "best_model = tuner.get_best_models(1)[0]\n",
        "best_model.summary()"
      ],
      "metadata": {
        "colab": {
          "base_uri": "https://localhost:8080/"
        },
        "id": "nuzB8Z1_KlOH",
        "outputId": "fec7fb51-8722-41f1-90f5-84bbbbbefa22"
      },
      "execution_count": null,
      "outputs": [
        {
          "output_type": "stream",
          "name": "stdout",
          "text": [
            "Trial 15 Complete [00h 01m 18s]\n",
            "val_accuracy: 0.9899665713310242\n",
            "\n",
            "Best val_accuracy So Far: 0.9966555237770081\n",
            "Total elapsed time: 00h 28m 11s\n",
            "\n",
            "Search: Running Trial #16\n",
            "\n",
            "Value             |Best Value So Far |Hyperparameter\n",
            "128               |128               |conv1_filters\n",
            "0.00046421        |6.005e-05         |l2\n",
            "False             |False             |use_batchnorm_first\n",
            "True              |True              |use_second_conv\n",
            "False             |False             |use_batchnorm_second\n",
            "False             |False             |use_third_conv\n",
            "False             |False             |use_batchnorm_third\n",
            "False             |False             |use_gap\n",
            "16                |32                |dense_units\n",
            "True              |True              |use_second_dense\n",
            "True              |False             |use_dropout\n",
            "0.0001            |0.001             |lr\n",
            "16                |16                |conv2_filters\n",
            "128               |64                |conv3_filters\n",
            "0.5               |0.4               |dropout_rate\n",
            "16                |16                |dense2_units\n",
            "\n",
            "Epoch 1/20\n",
            "19/19 - 9s - 479ms/step - accuracy: 0.4455 - loss: 1.0707 - val_accuracy: 0.8896 - val_loss: 0.8955\n",
            "Epoch 2/20\n",
            "19/19 - 10s - 540ms/step - accuracy: 0.6191 - loss: 0.8904 - val_accuracy: 0.8997 - val_loss: 0.5877\n",
            "Epoch 3/20\n",
            "19/19 - 10s - 521ms/step - accuracy: 0.6460 - loss: 0.7646 - val_accuracy: 0.9097 - val_loss: 0.5166\n",
            "Epoch 4/20\n",
            "19/19 - 9s - 499ms/step - accuracy: 0.6418 - loss: 0.7576 - val_accuracy: 0.9231 - val_loss: 0.5096\n",
            "Epoch 5/20\n",
            "19/19 - 10s - 551ms/step - accuracy: 0.6468 - loss: 0.7498 - val_accuracy: 0.9298 - val_loss: 0.4899\n",
            "Epoch 6/20\n",
            "19/19 - 10s - 540ms/step - accuracy: 0.6653 - loss: 0.7126 - val_accuracy: 0.9231 - val_loss: 0.4376\n",
            "Epoch 7/20\n",
            "19/19 - 10s - 550ms/step - accuracy: 0.6661 - loss: 0.6975 - val_accuracy: 0.9298 - val_loss: 0.4326\n",
            "Epoch 8/20\n",
            "19/19 - 11s - 567ms/step - accuracy: 0.6837 - loss: 0.6855 - val_accuracy: 0.9298 - val_loss: 0.4221\n",
            "Epoch 9/20\n",
            "19/19 - 10s - 539ms/step - accuracy: 0.6913 - loss: 0.6739 - val_accuracy: 0.9298 - val_loss: 0.4165\n",
            "Epoch 10/20\n",
            "19/19 - 10s - 532ms/step - accuracy: 0.6896 - loss: 0.6397 - val_accuracy: 0.9298 - val_loss: 0.3859\n",
            "Epoch 11/20\n",
            "19/19 - 9s - 497ms/step - accuracy: 0.6728 - loss: 0.6611 - val_accuracy: 0.9298 - val_loss: 0.3785\n",
            "Epoch 12/20\n",
            "19/19 - 10s - 535ms/step - accuracy: 0.6762 - loss: 0.6424 - val_accuracy: 0.9298 - val_loss: 0.3642\n",
            "Epoch 13/20\n",
            "19/19 - 10s - 537ms/step - accuracy: 0.6879 - loss: 0.6064 - val_accuracy: 0.9298 - val_loss: 0.3763\n",
            "Epoch 14/20\n",
            "19/19 - 10s - 539ms/step - accuracy: 0.7089 - loss: 0.6021 - val_accuracy: 0.9298 - val_loss: 0.3261\n",
            "Epoch 15/20\n",
            "19/19 - 11s - 567ms/step - accuracy: 0.7022 - loss: 0.5983 - val_accuracy: 0.9298 - val_loss: 0.3163\n",
            "Epoch 16/20\n",
            "19/19 - 11s - 555ms/step - accuracy: 0.6997 - loss: 0.5851 - val_accuracy: 0.9298 - val_loss: 0.2954\n",
            "Epoch 17/20\n"
          ]
        }
      ]
    },
    {
      "cell_type": "code",
      "source": [
        "# feeding to the model\n",
        "history = best_model.fit(X_scaled, train_labels_encoded, epochs=10, batch_size=64, validation_split=0.2, callbacks=[EarlyStopping(monitor='val_loss', patience=2)], verbose=2)"
      ],
      "metadata": {
        "id": "j4SwDK5rqDte"
      },
      "execution_count": null,
      "outputs": []
    },
    {
      "cell_type": "code",
      "source": [
        "# Final training accuracy\n",
        "final_train_acc = history.history['accuracy'][-1]\n",
        "\n",
        "# Final validation accuracy\n",
        "final_val_acc = history.history['val_accuracy'][-1]\n",
        "\n",
        "print(f\"Final Training Accuracy: {final_train_acc:.4f}\")\n",
        "print(f\"Final Validation Accuracy: {final_val_acc:.4f}\")"
      ],
      "metadata": {
        "id": "apVsit_mjx5b"
      },
      "execution_count": null,
      "outputs": []
    },
    {
      "cell_type": "code",
      "source": [
        "plt.figure()\n",
        "plt.plot(history.history['loss'])\n",
        "plt.plot(history.history['val_loss'])"
      ],
      "metadata": {
        "id": "WetiFzEg8DDv"
      },
      "execution_count": null,
      "outputs": []
    },
    {
      "cell_type": "code",
      "source": [
        "plt.figure()\n",
        "plt.plot(history.history['accuracy'])\n",
        "plt.plot(history.history['val_accuracy'])"
      ],
      "metadata": {
        "id": "ShKkaAb68Dpf"
      },
      "execution_count": null,
      "outputs": []
    },
    {
      "cell_type": "code",
      "source": [
        "# loading Test data\n",
        "\n",
        "# file paths\n",
        "npy_path1 = '/content/drive/MyDrive/MPA-MLF_DATA_NEW/Test'\n",
        "\n",
        "#sort and load all files from the Test folder\n",
        "files_test = sorted([f for f in os.listdir(npy_path1)], key=lambda f: int(f.replace('.npy', '')))\n",
        "# Load each file and collect into a list\n",
        "X_test = [np.load(os.path.join(npy_path1, f)) for f in files_test]\n",
        "# stack into array\n",
        "X_test = np.stack(X_test)\n",
        "\n",
        "# showing shape of X_train\n",
        "print(X_test.shape)\n",
        "\n",
        "# Flatten: (1491, 72, 48) → (1491, 72 * 48)\n",
        "X_test_flat = X_test.reshape(X_test.shape[0], -1)\n",
        "\n",
        "# Standardize\n",
        "scaler = StandardScaler()\n",
        "X_scaled_flat_test = scaler.fit_transform(X_test_flat)\n",
        "\n",
        "# Reshape back: (1491, 72, 48)\n",
        "X_scaled_test = X_scaled_flat_test.reshape(X_test.shape)\n",
        "\n",
        "# showing shape of X_train scaled back after standardize\n",
        "print(X_scaled_test.shape)"
      ],
      "metadata": {
        "id": "MkviprAwMOaA"
      },
      "execution_count": null,
      "outputs": []
    },
    {
      "cell_type": "code",
      "source": [
        "predictions = model.predict(X_scaled_test)\n",
        "\n",
        "# Get predicted class indices\n",
        "predicted_classes = np.argmax(predictions, axis=1)\n",
        "\n",
        "# View them\n",
        "print(predicted_classes)\n",
        "print(predictions)"
      ],
      "metadata": {
        "id": "tdzrWnH1uyKA"
      },
      "execution_count": null,
      "outputs": []
    },
    {
      "cell_type": "code",
      "source": [
        "\n",
        "\n",
        "\n",
        "# Convert filenames to IDs\n",
        "ids = [int(f.replace('.npy', '')) for f in files_test]\n",
        "predicted_classes = np.array(predicted_classes).flatten()\n",
        "\n",
        "# Create submission DataFrame\n",
        "submission_df = pd.DataFrame({\n",
        "    'ID': ids,\n",
        "    'target': predicted_classes\n",
        "})\n",
        "\n",
        "# Sort by ID (optional but tidy)\n",
        "submission_df = submission_df.sort_values(by='ID')\n",
        "\n",
        "# Save with correct format\n",
        "submission_df.to_csv('submission.csv', index=False)\n",
        "\n",
        "# Optional: download in Colab\n",
        "from google.colab import files\n",
        "files.download('submission.csv')"
      ],
      "metadata": {
        "id": "gk0FUPGG3bAx"
      },
      "execution_count": null,
      "outputs": []
    },
    {
      "cell_type": "code",
      "source": [],
      "metadata": {
        "id": "gWYCchbJ7AoD"
      },
      "execution_count": null,
      "outputs": []
    }
  ]
}