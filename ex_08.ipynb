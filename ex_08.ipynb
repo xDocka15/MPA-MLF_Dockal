{
  "cells": [
    {
      "cell_type": "markdown",
      "metadata": {
        "id": "view-in-github",
        "colab_type": "text"
      },
      "source": [
        "<a href=\"https://colab.research.google.com/github/xDocka15/MPA-MLF_Dockal/blob/main/ex_08.ipynb\" target=\"_parent\"><img src=\"https://colab.research.google.com/assets/colab-badge.svg\" alt=\"Open In Colab\"/></a>"
      ]
    },
    {
      "cell_type": "markdown",
      "id": "4e658167-a5e2-42c5-9fa6-01f7021fbca4",
      "metadata": {
        "id": "4e658167-a5e2-42c5-9fa6-01f7021fbca4"
      },
      "source": [
        "# MKA-MLF, Lab_08 - RNN"
      ]
    },
    {
      "cell_type": "markdown",
      "source": [
        "Recurrent Neural Networks, are a class of artificial neural networks designed to recognize patterns in sequences of data, such as text, genomes, handwriting, or spoken words. Unlike traditional neural networks, which assume all inputs (and outputs) are independent of each other, RNNs are designed to recognize sequential or temporal patterns, making them especially suited for tasks like language modeling, speech recognition, and time series prediction."
      ],
      "metadata": {
        "id": "F6KltZSGklJQ"
      },
      "id": "F6KltZSGklJQ"
    },
    {
      "cell_type": "markdown",
      "source": [
        "## Exercise 1 - Time Series Forecasting"
      ],
      "metadata": {
        "id": "zheceqk2lMcA"
      },
      "id": "zheceqk2lMcA"
    },
    {
      "cell_type": "markdown",
      "source": [
        "### 1.0 Import Libraries"
      ],
      "metadata": {
        "id": "TzFZTA1DrJbG"
      },
      "id": "TzFZTA1DrJbG"
    },
    {
      "cell_type": "code",
      "source": [
        "import numpy as np\n",
        "import matplotlib.pyplot as plt\n",
        "from keras.models import Sequential\n",
        "from tensorflow.keras.optimizers import Adam\n",
        "from keras.layers import Dense, Flatten, SimpleRNN"
      ],
      "metadata": {
        "id": "Whyi3QznnAbG"
      },
      "id": "Whyi3QznnAbG",
      "execution_count": null,
      "outputs": []
    },
    {
      "cell_type": "markdown",
      "source": [
        "### 1.1 Generating dataset"
      ],
      "metadata": {
        "id": "UBqkZx0lrCAP"
      },
      "id": "UBqkZx0lrCAP"
    },
    {
      "cell_type": "code",
      "source": [
        "def generate_time_series(batch_size, n_steps):\n",
        "  freq1, freq2, offsets1, offsets2 = np.random.rand(4, batch_size, 1)\n",
        "  time = np.linspace(0,1,n_steps)\n",
        "\n",
        "  series = 0.5 * np.sin((time - offsets1) * (freq1*10 + 10))\n",
        "  series += 0.2 * np.sin((time - offsets2) * (freq2*20 + 20))\n",
        "  series += 0.1 * (np.random.rand(batch_size, n_steps)- 0.5)\n",
        "  return series[..., np.newaxis].astype(np.float32)"
      ],
      "metadata": {
        "id": "Q_Q3ulmRlS6R"
      },
      "id": "Q_Q3ulmRlS6R",
      "execution_count": null,
      "outputs": []
    },
    {
      "cell_type": "code",
      "source": [
        "data_size = 10000\n",
        "n_steps = 50\n",
        "np.random.seed(0)\n",
        "\n",
        "series = generate_time_series(data_size, n_steps + 1)"
      ],
      "metadata": {
        "id": "p9kt6EQjkfvi"
      },
      "id": "p9kt6EQjkfvi",
      "execution_count": null,
      "outputs": []
    },
    {
      "cell_type": "markdown",
      "source": [
        "### 1.2 Train/Valid/Test split"
      ],
      "metadata": {
        "id": "5neyWb-NrQ98"
      },
      "id": "5neyWb-NrQ98"
    },
    {
      "cell_type": "code",
      "source": [
        "X_train, y_train = series[:7000, :n_steps], series[:7000, -1]\n",
        "X_valid, y_valid = series[7000:9000, :n_steps], series[7000:9000, -1]\n",
        "X_test, y_test = series[9000:, :n_steps], series[9000:, -1]"
      ],
      "metadata": {
        "id": "hPX75BPkmZqk"
      },
      "id": "hPX75BPkmZqk",
      "execution_count": null,
      "outputs": []
    },
    {
      "cell_type": "code",
      "source": [
        "no_training_epochs = 5"
      ],
      "metadata": {
        "id": "0DtVKkwzuoQZ"
      },
      "id": "0DtVKkwzuoQZ",
      "execution_count": null,
      "outputs": []
    },
    {
      "cell_type": "markdown",
      "source": [
        "### 1.3 Data examination"
      ],
      "metadata": {
        "id": "js6Qzm--rXmD"
      },
      "id": "js6Qzm--rXmD"
    },
    {
      "cell_type": "code",
      "source": [
        "plt.figure()\n",
        "plt.plot(X_train[0])\n",
        "plt.plot(n_steps+1, y_train[0], 'rx')"
      ],
      "metadata": {
        "colab": {
          "base_uri": "https://localhost:8080/",
          "height": 447
        },
        "id": "GpXWorBknLSr",
        "outputId": "6ba44aff-976e-4f18-e81c-a9cb0506773a"
      },
      "id": "GpXWorBknLSr",
      "execution_count": null,
      "outputs": [
        {
          "output_type": "execute_result",
          "data": {
            "text/plain": [
              "[<matplotlib.lines.Line2D at 0x783cdb72cd10>]"
            ]
          },
          "metadata": {},
          "execution_count": 7
        },
        {
          "output_type": "display_data",
          "data": {
            "text/plain": [
              "<Figure size 640x480 with 1 Axes>"
            ],
            "image/png": "[encoded data removed]"
          },
          "metadata": {}
        }
      ]
    },
    {
      "cell_type": "markdown",
      "source": [
        "### 1.4 Simple Linear model"
      ],
      "metadata": {
        "id": "GvgPXxfBrahC"
      },
      "id": "GvgPXxfBrahC"
    },
    {
      "cell_type": "code",
      "source": [
        "# Model definition\n",
        "model_linear = Sequential()\n",
        "model_linear.add(Flatten(input_shape=(50,1)))\n",
        "model_linear.add(Dense(1, activation = None))"
      ],
      "metadata": {
        "id": "g7izHKRso_an",
        "colab": {
          "base_uri": "https://localhost:8080/"
        },
        "outputId": "db8b47a7-92ac-4d00-f446-1f4629c1329d"
      },
      "id": "g7izHKRso_an",
      "execution_count": null,
      "outputs": [
        {
          "output_type": "stream",
          "name": "stderr",
          "text": [
            "/usr/local/lib/python3.11/dist-packages/keras/src/layers/reshaping/flatten.py:37: UserWarning: Do not pass an `input_shape`/`input_dim` argument to a layer. When using Sequential models, prefer using an `Input(shape)` object as the first layer in the model instead.\n",
            "  super().__init__(**kwargs)\n"
          ]
        }
      ]
    },
    {
      "cell_type": "code",
      "source": [
        "# Model building\n",
        "\n",
        "learning_rate = 0.001\n",
        "optimizer = Adam(learning_rate)\n",
        "model_linear.compile(loss='mean_squared_error', optimizer=optimizer, metrics=['mean_squared_error'])"
      ],
      "metadata": {
        "id": "csJhWfvypZw7"
      },
      "id": "csJhWfvypZw7",
      "execution_count": null,
      "outputs": []
    },
    {
      "cell_type": "code",
      "source": [
        "model_linear.summary()"
      ],
      "metadata": {
        "colab": {
          "base_uri": "https://localhost:8080/",
          "height": 204
        },
        "id": "D3iBcNJQpnMv",
        "outputId": "19ecb00c-34aa-4e57-a1ec-4738a1edde34"
      },
      "id": "D3iBcNJQpnMv",
      "execution_count": null,
      "outputs": [
        {
          "output_type": "display_data",
          "data": {
            "text/plain": [
              "\u001b[1mModel: \"sequential\"\u001b[0m\n"
            ],
            "text/html": [
              "<pre style=\"white-space:pre;overflow-x:auto;line-height:normal;font-family:Menlo,'DejaVu Sans Mono',consolas,'Courier New',monospace\"><span style=\"font-weight: bold\">Model: \"sequential\"</span>\n",
              "</pre>\n"
            ]
          },
          "metadata": {}
        },
        {
          "output_type": "display_data",
          "data": {
            "text/plain": [
              "┏━━━━━━━━━━━━━━━━━━━━━━━━━━━━━━━━━━━━━━┳━━━━━━━━━━━━━━━━━━━━━━━━━━━━━┳━━━━━━━━━━━━━━━━━┓\n",
              "┃\u001b[1m \u001b[0m\u001b[1mLayer (type)                        \u001b[0m\u001b[1m \u001b[0m┃\u001b[1m \u001b[0m\u001b[1mOutput Shape               \u001b[0m\u001b[1m \u001b[0m┃\u001b[1m \u001b[0m\u001b[1m        Param #\u001b[0m\u001b[1m \u001b[0m┃\n",
              "┡━━━━━━━━━━━━━━━━━━━━━━━━━━━━━━━━━━━━━━╇━━━━━━━━━━━━━━━━━━━━━━━━━━━━━╇━━━━━━━━━━━━━━━━━┩\n",
              "│ flatten (\u001b[38;5;33mFlatten\u001b[0m)                    │ (\u001b[38;5;45mNone\u001b[0m, \u001b[38;5;34m50\u001b[0m)                  │               \u001b[38;5;34m0\u001b[0m │\n",
              "├──────────────────────────────────────┼─────────────────────────────┼─────────────────┤\n",
              "│ dense (\u001b[38;5;33mDense\u001b[0m)                        │ (\u001b[38;5;45mNone\u001b[0m, \u001b[38;5;34m1\u001b[0m)                   │              \u001b[38;5;34m51\u001b[0m │\n",
              "└──────────────────────────────────────┴─────────────────────────────┴─────────────────┘\n"
            ],
            "text/html": [
              "<pre style=\"white-space:pre;overflow-x:auto;line-height:normal;font-family:Menlo,'DejaVu Sans Mono',consolas,'Courier New',monospace\">┏━━━━━━━━━━━━━━━━━━━━━━━━━━━━━━━━━━━━━━┳━━━━━━━━━━━━━━━━━━━━━━━━━━━━━┳━━━━━━━━━━━━━━━━━┓\n",
              "┃<span style=\"font-weight: bold\"> Layer (type)                         </span>┃<span style=\"font-weight: bold\"> Output Shape                </span>┃<span style=\"font-weight: bold\">         Param # </span>┃\n",
              "┡━━━━━━━━━━━━━━━━━━━━━━━━━━━━━━━━━━━━━━╇━━━━━━━━━━━━━━━━━━━━━━━━━━━━━╇━━━━━━━━━━━━━━━━━┩\n",
              "│ flatten (<span style=\"color: #0087ff; text-decoration-color: #0087ff\">Flatten</span>)                    │ (<span style=\"color: #00d7ff; text-decoration-color: #00d7ff\">None</span>, <span style=\"color: #00af00; text-decoration-color: #00af00\">50</span>)                  │               <span style=\"color: #00af00; text-decoration-color: #00af00\">0</span> │\n",
              "├──────────────────────────────────────┼─────────────────────────────┼─────────────────┤\n",
              "│ dense (<span style=\"color: #0087ff; text-decoration-color: #0087ff\">Dense</span>)                        │ (<span style=\"color: #00d7ff; text-decoration-color: #00d7ff\">None</span>, <span style=\"color: #00af00; text-decoration-color: #00af00\">1</span>)                   │              <span style=\"color: #00af00; text-decoration-color: #00af00\">51</span> │\n",
              "└──────────────────────────────────────┴─────────────────────────────┴─────────────────┘\n",
              "</pre>\n"
            ]
          },
          "metadata": {}
        },
        {
          "output_type": "display_data",
          "data": {
            "text/plain": [
              "\u001b[1m Total params: \u001b[0m\u001b[38;5;34m51\u001b[0m (204.00 B)\n"
            ],
            "text/html": [
              "<pre style=\"white-space:pre;overflow-x:auto;line-height:normal;font-family:Menlo,'DejaVu Sans Mono',consolas,'Courier New',monospace\"><span style=\"font-weight: bold\"> Total params: </span><span style=\"color: #00af00; text-decoration-color: #00af00\">51</span> (204.00 B)\n",
              "</pre>\n"
            ]
          },
          "metadata": {}
        },
        {
          "output_type": "display_data",
          "data": {
            "text/plain": [
              "\u001b[1m Trainable params: \u001b[0m\u001b[38;5;34m51\u001b[0m (204.00 B)\n"
            ],
            "text/html": [
              "<pre style=\"white-space:pre;overflow-x:auto;line-height:normal;font-family:Menlo,'DejaVu Sans Mono',consolas,'Courier New',monospace\"><span style=\"font-weight: bold\"> Trainable params: </span><span style=\"color: #00af00; text-decoration-color: #00af00\">51</span> (204.00 B)\n",
              "</pre>\n"
            ]
          },
          "metadata": {}
        },
        {
          "output_type": "display_data",
          "data": {
            "text/plain": [
              "\u001b[1m Non-trainable params: \u001b[0m\u001b[38;5;34m0\u001b[0m (0.00 B)\n"
            ],
            "text/html": [
              "<pre style=\"white-space:pre;overflow-x:auto;line-height:normal;font-family:Menlo,'DejaVu Sans Mono',consolas,'Courier New',monospace\"><span style=\"font-weight: bold\"> Non-trainable params: </span><span style=\"color: #00af00; text-decoration-color: #00af00\">0</span> (0.00 B)\n",
              "</pre>\n"
            ]
          },
          "metadata": {}
        }
      ]
    },
    {
      "cell_type": "code",
      "source": [
        "# Model training\n",
        "\n",
        "history_linear = model_linear.fit(X_train, y_train, epochs=no_training_epochs, validation_data=[X_valid, y_valid])"
      ],
      "metadata": {
        "colab": {
          "base_uri": "https://localhost:8080/"
        },
        "id": "GGZMF0d9pmbv",
        "outputId": "85ef95eb-41cc-49ca-da6e-0e835836a97c"
      },
      "id": "GGZMF0d9pmbv",
      "execution_count": null,
      "outputs": [
        {
          "output_type": "stream",
          "name": "stdout",
          "text": [
            "Epoch 1/5\n",
            "\u001b[1m219/219\u001b[0m \u001b[32m━━━━━━━━━━━━━━━━━━━━\u001b[0m\u001b[37m\u001b[0m \u001b[1m3s\u001b[0m 8ms/step - loss: 0.3807 - mean_squared_error: 0.3807 - val_loss: 0.0601 - val_mean_squared_error: 0.0601\n",
            "Epoch 2/5\n",
            "\u001b[1m219/219\u001b[0m \u001b[32m━━━━━━━━━━━━━━━━━━━━\u001b[0m\u001b[37m\u001b[0m \u001b[1m1s\u001b[0m 3ms/step - loss: 0.0526 - mean_squared_error: 0.0526 - val_loss: 0.0353 - val_mean_squared_error: 0.0353\n",
            "Epoch 3/5\n",
            "\u001b[1m219/219\u001b[0m \u001b[32m━━━━━━━━━━━━━━━━━━━━\u001b[0m\u001b[37m\u001b[0m \u001b[1m1s\u001b[0m 4ms/step - loss: 0.0321 - mean_squared_error: 0.0321 - val_loss: 0.0238 - val_mean_squared_error: 0.0238\n",
            "Epoch 4/5\n",
            "\u001b[1m219/219\u001b[0m \u001b[32m━━━━━━━━━━━━━━━━━━━━\u001b[0m\u001b[37m\u001b[0m \u001b[1m1s\u001b[0m 3ms/step - loss: 0.0217 - mean_squared_error: 0.0217 - val_loss: 0.0176 - val_mean_squared_error: 0.0176\n",
            "Epoch 5/5\n",
            "\u001b[1m219/219\u001b[0m \u001b[32m━━━━━━━━━━━━━━━━━━━━\u001b[0m\u001b[37m\u001b[0m \u001b[1m1s\u001b[0m 3ms/step - loss: 0.0171 - mean_squared_error: 0.0171 - val_loss: 0.0142 - val_mean_squared_error: 0.0142\n"
          ]
        }
      ]
    },
    {
      "cell_type": "code",
      "source": [
        "def plot_function(history):\n",
        "  plt.figure()\n",
        "\n",
        "  plt.plot(history.history['loss'], label='loss')\n",
        "  plt.plot(history.history['val_loss'], label='validation_loss')\n",
        "  plt.legend()\n",
        "  plt.grid()\n",
        "  plt.xlim([0,no_training_epochs-1])\n",
        "  plt.xlabel('epochs')"
      ],
      "metadata": {
        "id": "t9IahRnYqSi4"
      },
      "id": "t9IahRnYqSi4",
      "execution_count": null,
      "outputs": []
    },
    {
      "cell_type": "code",
      "source": [
        "plot_function(history_linear)"
      ],
      "metadata": {
        "colab": {
          "base_uri": "https://localhost:8080/",
          "height": 449
        },
        "id": "wMAEXxYiwKYo",
        "outputId": "b6674295-7bb4-4faa-c247-e95726a0eda7"
      },
      "id": "wMAEXxYiwKYo",
      "execution_count": null,
      "outputs": [
        {
          "output_type": "display_data",
          "data": {
            "text/plain": [
              "<Figure size 640x480 with 1 Axes>"
            ],
            "image/png": "[encoded data removed]"
          },
          "metadata": {}
        }
      ]
    },
    {
      "cell_type": "code",
      "source": [
        "score = model_linear.evaluate(X_test, y_test, verbose=0)\n",
        "print('Test loss:', score[0])\n",
        "print(f'Test MSE: ', score[1])"
      ],
      "metadata": {
        "colab": {
          "base_uri": "https://localhost:8080/"
        },
        "id": "nKnuXHSSqV8n",
        "outputId": "44d6f423-d997-4b02-dbae-ad77fbd81d96"
      },
      "id": "nKnuXHSSqV8n",
      "execution_count": null,
      "outputs": [
        {
          "output_type": "stream",
          "name": "stdout",
          "text": [
            "Test loss: 0.014484225772321224\n",
            "Test MSE:  0.014484225772321224\n"
          ]
        }
      ]
    },
    {
      "cell_type": "markdown",
      "source": [
        "### 1.5 Simple RNN Model"
      ],
      "metadata": {
        "id": "odHZYob8rf4B"
      },
      "id": "odHZYob8rf4B"
    },
    {
      "cell_type": "code",
      "source": [
        "model_simple_rnn = Sequential()\n",
        "model_simple_rnn.add(SimpleRNN(1, input_shape=[50, 1]))"
      ],
      "metadata": {
        "id": "jRSMY-2GrAI5",
        "colab": {
          "base_uri": "https://localhost:8080/"
        },
        "outputId": "bdd0fa72-3829-4a56-af54-a3e87dbc8fdf"
      },
      "id": "jRSMY-2GrAI5",
      "execution_count": null,
      "outputs": [
        {
          "output_type": "stream",
          "name": "stderr",
          "text": [
            "/usr/local/lib/python3.11/dist-packages/keras/src/layers/rnn/rnn.py:200: UserWarning: Do not pass an `input_shape`/`input_dim` argument to a layer. When using Sequential models, prefer using an `Input(shape)` object as the first layer in the model instead.\n",
            "  super().__init__(**kwargs)\n"
          ]
        }
      ]
    },
    {
      "cell_type": "code",
      "source": [
        "learning_rate_simple_rnn = 0.001\n",
        "optimizer_simple_rnn = Adam(learning_rate_simple_rnn)\n",
        "model_simple_rnn.compile(loss='mean_squared_error', optimizer=optimizer_simple_rnn, metrics=['mean_squared_error'])"
      ],
      "metadata": {
        "id": "a4O10LpTtPun"
      },
      "id": "a4O10LpTtPun",
      "execution_count": null,
      "outputs": []
    },
    {
      "cell_type": "code",
      "source": [
        "history_simple_rnn = model_simple_rnn.fit(X_train, y_train, epochs=no_training_epochs, validation_data=[X_valid, y_valid])"
      ],
      "metadata": {
        "colab": {
          "base_uri": "https://localhost:8080/"
        },
        "id": "kvkCnmGDtaSo",
        "outputId": "0a6168e6-c2b4-4fab-af23-4d98ecce574b"
      },
      "id": "kvkCnmGDtaSo",
      "execution_count": null,
      "outputs": [
        {
          "output_type": "stream",
          "name": "stdout",
          "text": [
            "Epoch 1/5\n",
            "\u001b[1m219/219\u001b[0m \u001b[32m━━━━━━━━━━━━━━━━━━━━\u001b[0m\u001b[37m\u001b[0m \u001b[1m4s\u001b[0m 10ms/step - loss: 0.2285 - mean_squared_error: 0.2285 - val_loss: 0.1189 - val_mean_squared_error: 0.1189\n",
            "Epoch 2/5\n",
            "\u001b[1m219/219\u001b[0m \u001b[32m━━━━━━━━━━━━━━━━━━━━\u001b[0m\u001b[37m\u001b[0m \u001b[1m1s\u001b[0m 5ms/step - loss: 0.1135 - mean_squared_error: 0.1135 - val_loss: 0.0851 - val_mean_squared_error: 0.0851\n",
            "Epoch 3/5\n",
            "\u001b[1m219/219\u001b[0m \u001b[32m━━━━━━━━━━━━━━━━━━━━\u001b[0m\u001b[37m\u001b[0m \u001b[1m1s\u001b[0m 6ms/step - loss: 0.0838 - mean_squared_error: 0.0838 - val_loss: 0.0681 - val_mean_squared_error: 0.0681\n",
            "Epoch 4/5\n",
            "\u001b[1m219/219\u001b[0m \u001b[32m━━━━━━━━━━━━━━━━━━━━\u001b[0m\u001b[37m\u001b[0m \u001b[1m1s\u001b[0m 6ms/step - loss: 0.0647 - mean_squared_error: 0.0647 - val_loss: 0.0563 - val_mean_squared_error: 0.0563\n",
            "Epoch 5/5\n",
            "\u001b[1m219/219\u001b[0m \u001b[32m━━━━━━━━━━━━━━━━━━━━\u001b[0m\u001b[37m\u001b[0m \u001b[1m1s\u001b[0m 4ms/step - loss: 0.0562 - mean_squared_error: 0.0562 - val_loss: 0.0478 - val_mean_squared_error: 0.0478\n"
          ]
        }
      ]
    },
    {
      "cell_type": "code",
      "source": [
        "plot_function(history_simple_rnn)"
      ],
      "metadata": {
        "id": "a7b9ss0XJLUs",
        "colab": {
          "base_uri": "https://localhost:8080/",
          "height": 449
        },
        "outputId": "9d92ebf4-9f3f-4d54-9b91-36bf07bc66d7"
      },
      "id": "a7b9ss0XJLUs",
      "execution_count": null,
      "outputs": [
        {
          "output_type": "display_data",
          "data": {
            "text/plain": [
              "<Figure size 640x480 with 1 Axes>"
            ],
            "image/png": "[encoded data removed]"
          },
          "metadata": {}
        }
      ]
    },
    {
      "cell_type": "markdown",
      "source": [
        "### 1.5 Deep RNN Model"
      ],
      "metadata": {
        "id": "NxaXF_ZKuMSN"
      },
      "id": "NxaXF_ZKuMSN"
    },
    {
      "cell_type": "code",
      "source": [
        "model_deep_rnn = Sequential()\n",
        "model_deep_rnn.add(SimpleRNN(20, return_sequences = True, input_shape=[50, 1]))\n",
        "model_deep_rnn.add(SimpleRNN(20, return_sequences = True))\n",
        "model_deep_rnn.add(SimpleRNN(1, input_shape=[50, 1]))"
      ],
      "metadata": {
        "id": "Vf6SRKUGtgQU"
      },
      "id": "Vf6SRKUGtgQU",
      "execution_count": null,
      "outputs": []
    },
    {
      "cell_type": "code",
      "source": [
        "learning_rate_deep_rnn = 0.001\n",
        "optimizer_deep_rnn = Adam(learning_rate_deep_rnn)\n",
        "model_deep_rnn.compile(loss='mean_squared_error', optimizer=optimizer_deep_rnn, metrics=['mean_squared_error'])"
      ],
      "metadata": {
        "id": "rykrG5VXuZ6s"
      },
      "id": "rykrG5VXuZ6s",
      "execution_count": null,
      "outputs": []
    },
    {
      "cell_type": "code",
      "source": [
        "history_deep_rnn = model_deep_rnn.fit(X_train, y_train, epochs=no_training_epochs, validation_data=[X_valid, y_valid])"
      ],
      "metadata": {
        "colab": {
          "base_uri": "https://localhost:8080/"
        },
        "id": "TX-nr2jOuhIm",
        "outputId": "28aabe9b-e8ff-4018-80fc-c6dbcf489270"
      },
      "id": "TX-nr2jOuhIm",
      "execution_count": null,
      "outputs": [
        {
          "output_type": "stream",
          "name": "stdout",
          "text": [
            "Epoch 1/5\n",
            "\u001b[1m219/219\u001b[0m \u001b[32m━━━━━━━━━━━━━━━━━━━━\u001b[0m\u001b[37m\u001b[0m \u001b[1m10s\u001b[0m 24ms/step - loss: 0.2793 - mean_squared_error: 0.2793 - val_loss: 0.0077 - val_mean_squared_error: 0.0077\n",
            "Epoch 2/5\n",
            "\u001b[1m219/219\u001b[0m \u001b[32m━━━━━━━━━━━━━━━━━━━━\u001b[0m\u001b[37m\u001b[0m \u001b[1m6s\u001b[0m 12ms/step - loss: 0.0072 - mean_squared_error: 0.0072 - val_loss: 0.0048 - val_mean_squared_error: 0.0048\n",
            "Epoch 3/5\n",
            "\u001b[1m219/219\u001b[0m \u001b[32m━━━━━━━━━━━━━━━━━━━━\u001b[0m\u001b[37m\u001b[0m \u001b[1m2s\u001b[0m 11ms/step - loss: 0.0049 - mean_squared_error: 0.0049 - val_loss: 0.0056 - val_mean_squared_error: 0.0056\n",
            "Epoch 4/5\n",
            "\u001b[1m219/219\u001b[0m \u001b[32m━━━━━━━━━━━━━━━━━━━━\u001b[0m\u001b[37m\u001b[0m \u001b[1m2s\u001b[0m 11ms/step - loss: 0.0045 - mean_squared_error: 0.0045 - val_loss: 0.0039 - val_mean_squared_error: 0.0039\n",
            "Epoch 5/5\n",
            "\u001b[1m219/219\u001b[0m \u001b[32m━━━━━━━━━━━━━━━━━━━━\u001b[0m\u001b[37m\u001b[0m \u001b[1m3s\u001b[0m 12ms/step - loss: 0.0038 - mean_squared_error: 0.0038 - val_loss: 0.0043 - val_mean_squared_error: 0.0043\n"
          ]
        }
      ]
    },
    {
      "cell_type": "code",
      "source": [
        "score = model_deep_rnn.evaluate(X_test, y_test, verbose=0)\n",
        "print('Test loss:', score[0])\n",
        "print(f'Test MSE: ', score[1])"
      ],
      "metadata": {
        "colab": {
          "base_uri": "https://localhost:8080/"
        },
        "id": "W2JOVZAlw2I6",
        "outputId": "d3db7aaf-cf66-4e24-c987-8a19b9689478"
      },
      "id": "W2JOVZAlw2I6",
      "execution_count": null,
      "outputs": [
        {
          "output_type": "stream",
          "name": "stdout",
          "text": [
            "Test loss: 0.004286498297005892\n",
            "Test MSE:  0.004286498297005892\n"
          ]
        }
      ]
    },
    {
      "cell_type": "code",
      "source": [
        "plot_function(history_simple_rnn)"
      ],
      "metadata": {
        "id": "h-RBk92nJSXt",
        "colab": {
          "base_uri": "https://localhost:8080/",
          "height": 449
        },
        "outputId": "b54a8d83-f143-4109-f032-dcf081950b62"
      },
      "id": "h-RBk92nJSXt",
      "execution_count": null,
      "outputs": [
        {
          "output_type": "display_data",
          "data": {
            "text/plain": [
              "<Figure size 640x480 with 1 Axes>"
            ],
            "image/png": "[encoded data removed]"
          },
          "metadata": {}
        }
      ]
    },
    {
      "cell_type": "markdown",
      "source": [
        "## Exercise 2 - The movie review\n",
        "\n",
        "\n"
      ],
      "metadata": {
        "id": "YKleL3gVxWhk"
      },
      "id": "YKleL3gVxWhk"
    },
    {
      "cell_type": "markdown",
      "source": [
        "Based on the written rewiev, classify if the movie if good or bad"
      ],
      "metadata": {
        "id": "nGOfR9_RI27U"
      },
      "id": "nGOfR9_RI27U"
    },
    {
      "cell_type": "markdown",
      "source": [
        "### 2.0 - Import libraries"
      ],
      "metadata": {
        "id": "DeJiO_Vxxz7P"
      },
      "id": "DeJiO_Vxxz7P"
    },
    {
      "cell_type": "code",
      "execution_count": null,
      "id": "JyIAVnPUlfak",
      "metadata": {
        "id": "JyIAVnPUlfak"
      },
      "outputs": [],
      "source": [
        "from tensorflow.keras.preprocessing.text import Tokenizer\n",
        "import keras\n",
        "import numpy as np\n",
        "from keras.models import Sequential\n",
        "from keras.layers import LSTM, Dense, Embedding, SimpleRNN, GRU\n",
        "from keras.preprocessing.sequence import pad_sequences\n",
        "import matplotlib.pyplot as plt\n",
        "from keras.optimizers import Adam"
      ]
    },
    {
      "cell_type": "markdown",
      "source": [
        "### 2.1 - Load dataset"
      ],
      "metadata": {
        "id": "_ebMTkFqx65l"
      },
      "id": "_ebMTkFqx65l"
    },
    {
      "cell_type": "code",
      "execution_count": null,
      "id": "zHTtEPlsq85X",
      "metadata": {
        "id": "zHTtEPlsq85X"
      },
      "outputs": [],
      "source": [
        "(X_train, y_train), (X_test, y_test) = keras.datasets.imdb.load_data()"
      ]
    },
    {
      "cell_type": "markdown",
      "source": [
        "### 2.2 - Dataset examination"
      ],
      "metadata": {
        "id": "K6UogxMDx_Y-"
      },
      "id": "K6UogxMDx_Y-"
    },
    {
      "cell_type": "code",
      "source": [
        "word_index = keras.datasets.imdb.get_word_index()\n",
        "id_to_word = {id_ + 3:word for word, id_ in word_index.items()}\n",
        "for id_, token in enumerate((\"<pad>\", \"<sos>\", \"<unk>\")):\n",
        "  id_to_word[id_] = token"
      ],
      "metadata": {
        "id": "9jLwcwPxyTD5"
      },
      "id": "9jLwcwPxyTD5",
      "execution_count": null,
      "outputs": []
    },
    {
      "cell_type": "code",
      "source": [
        "single_sequence = \" \".join([id_to_word[id_] for id_ in X_train[0][:]])"
      ],
      "metadata": {
        "id": "c8yXphQIyXZB"
      },
      "id": "c8yXphQIyXZB",
      "execution_count": null,
      "outputs": []
    },
    {
      "cell_type": "code",
      "source": [
        "single_sequence"
      ],
      "metadata": {
        "colab": {
          "base_uri": "https://localhost:8080/",
          "height": 105
        },
        "id": "h_1cpznZC70B",
        "outputId": "e7d7731e-7c23-4807-ced3-b0f489f8c15a"
      },
      "id": "h_1cpznZC70B",
      "execution_count": null,
      "outputs": [
        {
          "output_type": "execute_result",
          "data": {
            "text/plain": [
              "\"<sos> this film was just brilliant casting location scenery story direction everyone's really suited the part they played and you could just imagine being there robert redford's is an amazing actor and now the same being director norman's father came from the same scottish island as myself so i loved the fact there was a real connection with this film the witty remarks throughout the film were great it was just brilliant so much that i bought the film as soon as it was released for retail and would recommend it to everyone to watch and the fly fishing was amazing really cried at the end it was so sad and you know what they say if you cry at a film it must have been good and this definitely was also congratulations to the two little boy's that played the part's of norman and paul they were just brilliant children are often left out of the praising list i think because the stars that play them all grown up are such a big profile for the whole film but these children are amazing and should be praised for what they have done don't you think the whole story was so lovely because it was true and was someone's life after all that was shared with us all\""
            ],
            "application/vnd.google.colaboratory.intrinsic+json": {
              "type": "string"
            }
          },
          "metadata": {},
          "execution_count": 128
        }
      ]
    },
    {
      "cell_type": "code",
      "execution_count": null,
      "id": "4vRZPUGr3w_m",
      "metadata": {
        "id": "4vRZPUGr3w_m"
      },
      "outputs": [],
      "source": [
        "max_length = 150  # Define the maximum length of a review\n",
        "X_train = keras.preprocessing.sequence.pad_sequences(X_train, maxlen=max_length, padding='post', truncating='post', value=0)\n",
        "X_test = keras.preprocessing.sequence.pad_sequences(X_test, maxlen=max_length, padding='post', truncating='post', value=0)"
      ]
    },
    {
      "cell_type": "code",
      "execution_count": null,
      "id": "NhzI5klo1pYp",
      "metadata": {
        "id": "NhzI5klo1pYp"
      },
      "outputs": [],
      "source": [
        "embed_size = 128\n",
        "vocabulary_size = 1000\n",
        "\n",
        "model = keras.models.Sequential([\n",
        "    keras.layers.Embedding(vocabulary_size, embed_size,input_shape=[None]),\n",
        "    keras.layers.GRU(128, return_sequences=True),\n",
        "    keras.layers.LSTM(128, dropout=0.1),\n",
        "    keras.layers.Dense(1, activation='sigmoid')\n",
        "    ])\n"
      ]
    },
    {
      "cell_type": "code",
      "execution_count": null,
      "id": "lCz9ZWgNbhaZ",
      "metadata": {
        "id": "lCz9ZWgNbhaZ"
      },
      "outputs": [],
      "source": [
        "optimizer = Adam(learning_rate = 0.0005)"
      ]
    },
    {
      "cell_type": "code",
      "execution_count": null,
      "id": "7fdxNF0h28jf",
      "metadata": {
        "id": "7fdxNF0h28jf"
      },
      "outputs": [],
      "source": [
        "model.compile(loss=\"binary_crossentropy\", optimizer=optimizer, metrics=[\"accuracy\"])"
      ]
    },
    {
      "cell_type": "code",
      "execution_count": null,
      "id": "lIVFi9qT3gzy",
      "metadata": {
        "colab": {
          "base_uri": "https://localhost:8080/"
        },
        "id": "lIVFi9qT3gzy",
        "outputId": "d8cb39b5-3750-4838-aaa1-1b8f12404adf"
      },
      "outputs": [
        {
          "output_type": "stream",
          "name": "stdout",
          "text": [
            "Epoch 1/7\n",
            "\u001b[1m625/625\u001b[0m \u001b[32m━━━━━━━━━━━━━━━━━━━━\u001b[0m\u001b[37m\u001b[0m \u001b[1m9s\u001b[0m 15ms/step - accuracy: 0.8614 - loss: 0.3243 - val_accuracy: 0.8328 - val_loss: 0.3901\n",
            "Epoch 2/7\n",
            "\u001b[1m625/625\u001b[0m \u001b[32m━━━━━━━━━━━━━━━━━━━━\u001b[0m\u001b[37m\u001b[0m \u001b[1m10s\u001b[0m 15ms/step - accuracy: 0.8627 - loss: 0.3156 - val_accuracy: 0.8336 - val_loss: 0.3874\n",
            "Epoch 3/7\n",
            "\u001b[1m625/625\u001b[0m \u001b[32m━━━━━━━━━━━━━━━━━━━━\u001b[0m\u001b[37m\u001b[0m \u001b[1m11s\u001b[0m 16ms/step - accuracy: 0.8678 - loss: 0.3104 - val_accuracy: 0.8280 - val_loss: 0.3840\n",
            "Epoch 4/7\n",
            "\u001b[1m625/625\u001b[0m \u001b[32m━━━━━━━━━━━━━━━━━━━━\u001b[0m\u001b[37m\u001b[0m \u001b[1m10s\u001b[0m 16ms/step - accuracy: 0.8765 - loss: 0.2958 - val_accuracy: 0.8254 - val_loss: 0.4028\n",
            "Epoch 5/7\n",
            "\u001b[1m625/625\u001b[0m \u001b[32m━━━━━━━━━━━━━━━━━━━━\u001b[0m\u001b[37m\u001b[0m \u001b[1m10s\u001b[0m 15ms/step - accuracy: 0.8799 - loss: 0.2878 - val_accuracy: 0.8194 - val_loss: 0.4120\n",
            "Epoch 6/7\n",
            "\u001b[1m625/625\u001b[0m \u001b[32m━━━━━━━━━━━━━━━━━━━━\u001b[0m\u001b[37m\u001b[0m \u001b[1m10s\u001b[0m 15ms/step - accuracy: 0.8859 - loss: 0.2768 - val_accuracy: 0.8214 - val_loss: 0.4399\n",
            "Epoch 7/7\n",
            "\u001b[1m625/625\u001b[0m \u001b[32m━━━━━━━━━━━━━━━━━━━━\u001b[0m\u001b[37m\u001b[0m \u001b[1m9s\u001b[0m 15ms/step - accuracy: 0.8955 - loss: 0.2602 - val_accuracy: 0.8234 - val_loss: 0.4526\n"
          ]
        }
      ],
      "source": [
        "history = model.fit(X_train, y_train, epochs=7, validation_split=0.2)"
      ]
    },
    {
      "cell_type": "code",
      "source": [
        "score = model.evaluate(X_test, y_test, verbose=0)\n",
        "print('Test loss:', score[0])\n",
        "print(f'Test accuracy: ', score[1]*100, \"%\")"
      ],
      "metadata": {
        "colab": {
          "base_uri": "https://localhost:8080/"
        },
        "id": "69zrgeNHIau6",
        "outputId": "a4666bab-2d0c-414e-af94-ecfd2cc58227"
      },
      "id": "69zrgeNHIau6",
      "execution_count": null,
      "outputs": [
        {
          "output_type": "stream",
          "name": "stdout",
          "text": [
            "Test loss: 0.4343266785144806\n",
            "Test accuracy:  82.76399970054626 %\n"
          ]
        }
      ]
    },
    {
      "cell_type": "markdown",
      "source": [
        "TASK: Modify structure, change the core of the network from RNN to LTSM and GRU. Compare the results\n",
        "\n",
        "pure RNN 50%\n",
        "\n",
        "pure GRU 82%\n",
        "\n",
        "pure LSTM 82%\n",
        "\n",
        "GRU and LSTM 82%\n",
        "\n",
        "10 epoch worse than 5\n",
        "\n",
        "0.0005 learning rate probablz better than 0.001"
      ],
      "metadata": {
        "id": "ZtA1O3R1RArG"
      },
      "id": "ZtA1O3R1RArG"
    }
  ],
  "metadata": {
    "accelerator": "GPU",
    "colab": {
      "gpuType": "T4",
      "provenance": [],
      "include_colab_link": true
    },
    "kernelspec": {
      "display_name": "Python 3",
      "name": "python3"
    },
    "language_info": {
      "codemirror_mode": {
        "name": "ipython",
        "version": 3
      },
      "file_extension": ".py",
      "mimetype": "text/x-python",
      "name": "python",
      "nbconvert_exporter": "python",
      "pygments_lexer": "ipython3",
      "version": "3.10.12"
    }
  },
  "nbformat": 4,
  "nbformat_minor": 5
}