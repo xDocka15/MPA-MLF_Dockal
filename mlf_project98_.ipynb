{
  "nbformat": 4,
  "nbformat_minor": 0,
  "metadata": {
    "colab": {
      "provenance": [],
      "gpuType": "T4",
      "name": "mlf_project98%.ipynb",
      "include_colab_link": true
    },
    "kernelspec": {
      "name": "python3",
      "display_name": "Python 3"
    },
    "language_info": {
      "name": "python"
    },
    "accelerator": "GPU"
  },
  "cells": [
    {
      "cell_type": "markdown",
      "metadata": {
        "id": "view-in-github",
        "colab_type": "text"
      },
      "source": [
        "<a href=\"https://colab.research.google.com/github/xDocka15/MPA-MLF_Dockal/blob/main/mlf_project98_.ipynb\" target=\"_parent\"><img src=\"https://colab.research.google.com/assets/colab-badge.svg\" alt=\"Open In Colab\"/></a>"
      ]
    },
    {
      "cell_type": "code",
      "execution_count": 12,
      "metadata": {
        "id": "89b9242qeB4Q"
      },
      "outputs": [],
      "source": [
        "!pip install keras-tuner --quiet\n",
        "\n",
        "# Imports\n",
        "from tensorflow import keras\n",
        "from tensorflow.keras.models import Sequential\n",
        "from tensorflow.keras.datasets import mnist\n",
        "import numpy as np\n",
        "import matplotlib.pyplot as plt\n",
        "import pandas as pd\n",
        "\n",
        "from sklearn.preprocessing import StandardScaler\n",
        "from tensorflow.keras.layers import Conv2D, MaxPooling2D, Dense, Flatten, Dropout, BatchNormalization, GlobalAveragePooling2D, GlobalMaxPooling2D, Input\n",
        "from tensorflow.keras.optimizers import Adam\n",
        "from tensorflow.keras.utils import to_categorical\n",
        "from google.colab import drive\n",
        "from google.colab import files\n",
        "import os\n",
        "\n",
        "from keras_tuner.tuners import RandomSearch\n",
        "from keras_tuner.tuners import Hyperband\n",
        "from keras_tuner import BayesianOptimization, Objective\n",
        "from tensorflow.keras.callbacks import EarlyStopping, ReduceLROnPlateau, ModelCheckpoint\n",
        "from tensorflow.keras import regularizers\n",
        "\n"
      ]
    },
    {
      "cell_type": "code",
      "source": [
        "# load train data\n",
        "drive.mount('/content/drive')\n",
        "\n",
        "label_path = '/content/drive/MyDrive/MPA-MLF_DATA_NEW/MPA-MLF_DATA_NEW/label_train.csv'\n",
        "npy_path = '/content/drive/MyDrive/MPA-MLF_DATA_NEW/MPA-MLF_DATA_NEW/Train'\n",
        "\n",
        "pd_dataset_train_label = pd.read_csv(label_path)\n",
        "print(pd_dataset_train_label)\n",
        "\n",
        "files = sorted([f for f in os.listdir(npy_path)], key=lambda f: int(f.replace('.npy', '')))\n",
        "\n",
        "file_path = os.path.join(npy_path, files[426])\n",
        "data = np.load(file_path)\n",
        "\n",
        "print(data)\n",
        "print(data.shape)\n",
        "\n",
        "# 2D graph\n",
        "plt.imshow(data, cmap='binary')\n",
        "plt.show()\n",
        "\n",
        "print(\"Min:\", data.min())\n",
        "print(\"Max:\", data.max())\n",
        "\n",
        "print(files[:10])"
      ],
      "metadata": {
        "colab": {
          "base_uri": "https://localhost:8080/",
          "height": 989
        },
        "id": "Va3glbWS8OvO",
        "outputId": "df2fa895-79c6-4204-86e7-2fc4ff2a38a5"
      },
      "execution_count": 17,
      "outputs": [
        {
          "output_type": "stream",
          "name": "stdout",
          "text": [
            "Drive already mounted at /content/drive; to attempt to forcibly remount, call drive.mount(\"/content/drive\", force_remount=True).\n",
            "        ID  target\n",
            "0        0       0\n",
            "1        1       0\n",
            "2        2       0\n",
            "3        3       0\n",
            "4        4       0\n",
            "...    ...     ...\n",
            "1486  1486       0\n",
            "1487  1487       1\n",
            "1488  1488       0\n",
            "1489  1489       0\n",
            "1490  1490       0\n",
            "\n",
            "[1491 rows x 2 columns]\n",
            "[[-25.30056666 -34.54445688 -44.03216144 ... -33.43543411 -42.21318327\n",
            "  -44.20080567]\n",
            " [-37.21657168 -28.83796589 -45.97329178 ... -34.13235963 -30.72768686\n",
            "  -41.97746687]\n",
            " [-34.31051981 -38.17045981 -44.83255253 ... -34.5931764  -46.7704932\n",
            "  -58.31586657]\n",
            " ...\n",
            " [-24.81139496 -24.35527671 -40.74519981 ... -11.69126833 -52.23467135\n",
            "  -61.16893254]\n",
            " [-33.45241254 -33.25408695 -41.33245363 ... -34.77979018 -40.67456753\n",
            "  -54.4493282 ]\n",
            " [-30.01098193 -26.85445864 -32.99086054 ... -34.30945241 -51.58250692\n",
            "  -59.80397625]]\n",
            "(72, 48)\n"
          ]
        },
        {
          "output_type": "display_data",
          "data": {
            "text/plain": [
              "<Figure size 640x480 with 1 Axes>"
            ],
            "image/png": "[encoded data removed]"
          },
          "metadata": {}
        },
        {
          "output_type": "stream",
          "name": "stdout",
          "text": [
            "Min: -61.16893254149212\n",
            "Max: 19.670490087247735\n",
            "['0.npy', '1.npy', '2.npy', '3.npy', '4.npy', '5.npy', '6.npy', '7.npy', '8.npy', '9.npy']\n"
          ]
        }
      ]
    },
    {
      "cell_type": "code",
      "source": [
        "# Load files\n",
        "X_train = [np.load(os.path.join(npy_path, f)) for f in files]\n",
        "\n",
        "# stack into array\n",
        "X_train = np.stack(X_train)\n",
        "\n",
        "print(X_train.shape)\n",
        "\n",
        "# Flatten\n",
        "X_train_flat = X_train.reshape(X_train.shape[0], -1)\n",
        "\n",
        "scaler = StandardScaler()\n",
        "X_scaled_flat = scaler.fit_transform(X_train_flat)\n",
        "\n",
        "X_scaled = X_scaled_flat.reshape(X_train.shape)\n",
        "\n",
        "print(X_scaled.shape)\n",
        "\n",
        "# hot end encoding\n",
        "train_labels_encoded = pd.get_dummies(pd_dataset_train_label, columns=['target'])\n",
        "train_labels_encoded = train_labels_encoded.astype(int)\n",
        "train_labels_encoded = train_labels_encoded.drop(columns=['ID'])\n",
        "\n",
        "print(train_labels_encoded)"
      ],
      "metadata": {
        "colab": {
          "base_uri": "https://localhost:8080/"
        },
        "id": "2Gdc5ztY3tQv",
        "outputId": "24f8f402-caea-49e8-8a62-3dfb0b7724f3"
      },
      "execution_count": 18,
      "outputs": [
        {
          "output_type": "stream",
          "name": "stdout",
          "text": [
            "(1491, 72, 48)\n",
            "(1491, 72, 48)\n",
            "      target_0  target_1  target_2\n",
            "0            1         0         0\n",
            "1            1         0         0\n",
            "2            1         0         0\n",
            "3            1         0         0\n",
            "4            1         0         0\n",
            "...        ...       ...       ...\n",
            "1486         1         0         0\n",
            "1487         0         1         0\n",
            "1488         1         0         0\n",
            "1489         1         0         0\n",
            "1490         1         0         0\n",
            "\n",
            "[1491 rows x 3 columns]\n"
          ]
        }
      ]
    },
    {
      "cell_type": "code",
      "source": [
        "\n",
        "from sklearn.utils.class_weight import compute_class_weight\n",
        "import shutil\n",
        "shutil.rmtree('tuning_dir/cnn_bayes', ignore_errors=True)\n",
        "\n",
        "# Compute class weights\n",
        "classes = np.argmax(train_labels_encoded, axis=1)  # Convert one-hot to class indices\n",
        "class_weights = compute_class_weight('balanced', classes=np.unique(classes), y=classes)\n",
        "class_weight_dict = {i: class_weights[i] for i in range(len(class_weights))}\n",
        "\n",
        "# Model for tuning\n",
        "def build_model(hp):\n",
        "    model = Sequential()\n",
        "    model.add(Input(shape=(72, 48, 1)))\n",
        "\n",
        "    # First Conv Block\n",
        "    kernel_size_x = hp.Int('conv1_kernel_size_x', min_value=3, max_value=5, step=2)\n",
        "    kernel_size_y = hp.Int('conv1_kernel_size_y', min_value=3, max_value=5, step=2)\n",
        "    model.add(Conv2D(\n",
        "        filters=hp.Choice('conv1_filters', values=[16, 32]),\n",
        "        kernel_size=(kernel_size_x, kernel_size_y),\n",
        "        activation='relu',\n",
        "        kernel_regularizer=regularizers.l2(hp.Float('l2_conv1', 1e-3, 1e-2, sampling='log'))\n",
        "    ))\n",
        "    model.add(MaxPooling2D((2, 2)))\n",
        "    model.add(BatchNormalization())\n",
        "\n",
        "    # Second Conv Block\n",
        "    if hp.Boolean('use_second_conv'):\n",
        "        model.add(Conv2D(\n",
        "            filters=hp.Choice('conv2_filters', values=[16, 32]),\n",
        "            kernel_size=(3, 3),\n",
        "            activation='relu',\n",
        "            kernel_regularizer=regularizers.l2(hp.Float('l2_conv2', 1e-3, 1e-2, sampling='log'))\n",
        "        ))\n",
        "        model.add(MaxPooling2D((2, 2)))\n",
        "        model.add(BatchNormalization())\n",
        "\n",
        "    # Pooling\n",
        "    pooling_type = hp.Choice('pooling_type', ['gap', 'gmp', 'flatten'])\n",
        "    if pooling_type == 'gap':\n",
        "        model.add(GlobalAveragePooling2D())\n",
        "    elif pooling_type == 'gmp':\n",
        "        model.add(GlobalMaxPooling2D())\n",
        "    else:\n",
        "        model.add(Flatten())\n",
        "\n",
        "    # Dense\n",
        "    model.add(Dense(\n",
        "        units=hp.Choice('dense_units', values=[8, 16, 32]),\n",
        "        activation=hp.Choice('dense_activation', values=['relu', 'elu']),\n",
        "        kernel_regularizer=regularizers.l2(hp.Float('l2_dense', 1e-3, 1e-2, sampling='log'))\n",
        "    ))\n",
        "    model.add(Dropout(rate=hp.Float('dropout_rate', 0.3, 0.7, step=0.1)))\n",
        "\n",
        "    if hp.Boolean('use_second_dense'):\n",
        "        model.add(Dense(\n",
        "            units=hp.Choice('dense2_units', values=[8, 16]),\n",
        "            activation=hp.Choice('dense2_activation', values=['relu', 'elu']),\n",
        "            kernel_regularizer=regularizers.l2(hp.Float('l2_dense2', 1e-3, 1e-2, sampling='log'))\n",
        "        ))\n",
        "        model.add(Dropout(rate=hp.Float('dropout_rate2', 0.3, 0.7, step=0.1)))\n",
        "\n",
        "    # Output Layer\n",
        "    model.add(Dense(3, activation='softmax'))\n",
        "\n",
        "    model.compile(\n",
        "        optimizer=Adam(learning_rate=hp.Choice('lr', values=[1e-2, 5e-3, 1e-3, 5e-4, 1e-4, 5e-5])),\n",
        "        loss='categorical_crossentropy',\n",
        "        metrics=['accuracy']\n",
        "    )\n",
        "\n",
        "    return model\n",
        "\n",
        "callbacks = [\n",
        "    EarlyStopping(monitor='val_loss', patience=5, restore_best_weights=True, mode='min', verbose=1),\n",
        "    ReduceLROnPlateau(monitor='val_loss', factor=0.5, patience=2, mode='min', verbose=1),\n",
        "    ModelCheckpoint('best_model.keras', monitor='val_loss', save_best_only=True, mode='min', verbose=1)\n",
        "]\n",
        "\n",
        "tuner = BayesianOptimization(\n",
        "    build_model,\n",
        "    objective=Objective(\"val_loss\", direction=\"min\"),\n",
        "    max_trials=40,\n",
        "    num_initial_points=10,\n",
        "    directory='tuning_dir',\n",
        "    project_name='cnn_bayes'\n",
        ")\n",
        "\n",
        "batch_sizes = [16, 32, 64, 128]\n",
        "best_val_loss = float('inf')\n",
        "best_val_accuracy = 0\n",
        "best_batch_size = None\n",
        "best_model = None\n",
        "best_hps = None\n",
        "\n",
        "for batch_size in batch_sizes:\n",
        "    print(f\"\\nTuning with batch_size={batch_size}\")\n",
        "    tuner.search(\n",
        "        X_scaled.reshape(-1, 72, 48, 1),\n",
        "        train_labels_encoded,\n",
        "        batch_size=batch_size,\n",
        "        epochs=20,\n",
        "        validation_split=0.2,\n",
        "        callbacks=callbacks,\n",
        "        class_weight=class_weight_dict,\n",
        "        verbose=2\n",
        "    )\n",
        "\n",
        "    # Best model\n",
        "    current_best_hps = tuner.get_best_hyperparameters(1)[0]\n",
        "    current_best_model = tuner.get_best_models(1)[0]\n",
        "\n",
        "    # Evaluate\n",
        "    val_data = X_scaled[-int(0.2 * len(X_scaled)):].reshape(-1, 72, 48, 1)\n",
        "    val_labels = train_labels_encoded[-int(0.2 * len(train_labels_encoded)):]\n",
        "    val_loss, val_accuracy = current_best_model.evaluate(val_data, val_labels, verbose=0)\n",
        "\n",
        "    # Update best model\n",
        "    if val_loss < best_val_loss:\n",
        "        best_val_loss = val_loss\n",
        "        best_val_accuracy = val_accuracy\n",
        "        best_batch_size = batch_size\n",
        "        best_model = current_best_model\n",
        "        best_hps = current_best_hps\n",
        "\n",
        "print(\"\\nBest Hyperparameters:\")\n",
        "print(f\"batch_size: {best_batch_size}\")\n",
        "print(f\"val_accuracy: {best_val_accuracy}\")\n",
        "print(f\"val_loss: {best_val_loss}\")\n",
        "for hp_name in best_hps.values.keys():\n",
        "    print(f\"{hp_name}: {best_hps.get(hp_name)}\")\n",
        "\n",
        "history = best_model.fit(\n",
        "    X_scaled.reshape(-1, 72, 48, 1),\n",
        "    train_labels_encoded,\n",
        "    batch_size=best_batch_size,\n",
        "    epochs=30,\n",
        "    validation_split=0.2,\n",
        "    callbacks=callbacks,\n",
        "    class_weight=class_weight_dict,\n",
        "    verbose=1\n",
        ")\n",
        "plt.plot(history.history['loss'], label='train_loss')\n",
        "plt.plot(history.history['val_loss'], label='val_loss')\n",
        "plt.legend()\n",
        "plt.title('Loss Curves')\n",
        "plt.show()\n",
        "plt.plot(history.history['accuracy'], label='train_accuracy')\n",
        "plt.plot(history.history['val_accuracy'], label='val_accuracy')\n",
        "plt.legend()\n",
        "plt.title('Accuracy Curves')\n",
        "plt.show()\n",
        "\n",
        "best_model.summary()"
      ],
      "metadata": {
        "colab": {
          "base_uri": "https://localhost:8080/",
          "height": 1000
        },
        "id": "nuzB8Z1_KlOH",
        "outputId": "8d4efbee-3159-450d-efe2-548e3944ab51"
      },
      "execution_count": null,
      "outputs": [
        {
          "output_type": "stream",
          "name": "stdout",
          "text": [
            "Trial 40 Complete [00h 00m 22s]\n",
            "val_loss: 0.03774404525756836\n",
            "\n",
            "Best val_loss So Far: 0.03774404525756836\n",
            "Total elapsed time: 00h 20m 47s\n"
          ]
        },
        {
          "output_type": "stream",
          "name": "stderr",
          "text": [
            "/usr/local/lib/python3.11/dist-packages/keras/src/saving/saving_lib.py:757: UserWarning: Skipping variable loading for optimizer 'adam', because it has 2 variables whereas the saved optimizer has 26 variables. \n",
            "  saveable.load_own_variables(weights_store.get(inner_path))\n"
          ]
        },
        {
          "output_type": "stream",
          "name": "stdout",
          "text": [
            "\n",
            "Tuning with batch_size=32\n"
          ]
        },
        {
          "output_type": "stream",
          "name": "stderr",
          "text": [
            "/usr/local/lib/python3.11/dist-packages/keras/src/saving/saving_lib.py:757: UserWarning: Skipping variable loading for optimizer 'adam', because it has 2 variables whereas the saved optimizer has 26 variables. \n",
            "  saveable.load_own_variables(weights_store.get(inner_path))\n"
          ]
        },
        {
          "output_type": "stream",
          "name": "stdout",
          "text": [
            "\n",
            "Tuning with batch_size=64\n"
          ]
        },
        {
          "output_type": "stream",
          "name": "stderr",
          "text": [
            "/usr/local/lib/python3.11/dist-packages/keras/src/saving/saving_lib.py:757: UserWarning: Skipping variable loading for optimizer 'adam', because it has 2 variables whereas the saved optimizer has 26 variables. \n",
            "  saveable.load_own_variables(weights_store.get(inner_path))\n"
          ]
        },
        {
          "output_type": "stream",
          "name": "stdout",
          "text": [
            "\n",
            "Tuning with batch_size=128\n"
          ]
        },
        {
          "output_type": "stream",
          "name": "stderr",
          "text": [
            "/usr/local/lib/python3.11/dist-packages/keras/src/saving/saving_lib.py:757: UserWarning: Skipping variable loading for optimizer 'adam', because it has 2 variables whereas the saved optimizer has 26 variables. \n",
            "  saveable.load_own_variables(weights_store.get(inner_path))\n"
          ]
        },
        {
          "output_type": "stream",
          "name": "stdout",
          "text": [
            "\n",
            "Best Hyperparameters:\n",
            "batch_size: 16\n",
            "val_accuracy: 1.0\n",
            "val_loss: 0.037739336490631104\n",
            "conv1_kernel_size_x: 3\n",
            "conv1_kernel_size_y: 5\n",
            "conv1_filters: 16\n",
            "l2_conv1: 0.001\n",
            "use_second_conv: True\n",
            "pooling_type: gap\n",
            "dense_units: 32\n",
            "dense_activation: relu\n",
            "l2_dense: 0.01\n",
            "dropout_rate: 0.3\n",
            "use_second_dense: False\n",
            "lr: 0.01\n",
            "conv2_filters: 32\n",
            "l2_conv2: 0.001\n",
            "dense2_units: 16\n",
            "dense2_activation: elu\n",
            "l2_dense2: 0.01\n",
            "dropout_rate2: 0.6000000000000001\n",
            "Epoch 1/30\n",
            "\u001b[1m75/75\u001b[0m \u001b[32m━━━━━━━━━━━━━━━━━━━━\u001b[0m\u001b[37m\u001b[0m \u001b[1m0s\u001b[0m 37ms/step - accuracy: 0.9947 - loss: 0.1013\n",
            "Epoch 1: val_loss improved from inf to 0.07032, saving model to best_model.keras\n",
            "\u001b[1m75/75\u001b[0m \u001b[32m━━━━━━━━━━━━━━━━━━━━\u001b[0m\u001b[37m\u001b[0m \u001b[1m7s\u001b[0m 48ms/step - accuracy: 0.9947 - loss: 0.1018 - val_accuracy: 1.0000 - val_loss: 0.0703 - learning_rate: 0.0100\n",
            "Epoch 2/30\n",
            "\u001b[1m66/75\u001b[0m \u001b[32m━━━━━━━━━━━━━━━━━\u001b[0m\u001b[37m━━━\u001b[0m \u001b[1m0s\u001b[0m 3ms/step - accuracy: 0.9779 - loss: 0.1679\n",
            "Epoch 2: val_loss did not improve from 0.07032\n",
            "\u001b[1m75/75\u001b[0m \u001b[32m━━━━━━━━━━━━━━━━━━━━\u001b[0m\u001b[37m\u001b[0m \u001b[1m0s\u001b[0m 4ms/step - accuracy: 0.9765 - loss: 0.1749 - val_accuracy: 0.9967 - val_loss: 0.1208 - learning_rate: 0.0100\n",
            "Epoch 3/30\n",
            "\u001b[1m71/75\u001b[0m \u001b[32m━━━━━━━━━━━━━━━━━━\u001b[0m\u001b[37m━━\u001b[0m \u001b[1m0s\u001b[0m 4ms/step - accuracy: 0.9700 - loss: 0.3924\n",
            "Epoch 3: ReduceLROnPlateau reducing learning rate to 0.004999999888241291.\n",
            "\n",
            "Epoch 3: val_loss did not improve from 0.07032\n",
            "\u001b[1m75/75\u001b[0m \u001b[32m━━━━━━━━━━━━━━━━━━━━\u001b[0m\u001b[37m\u001b[0m \u001b[1m0s\u001b[0m 6ms/step - accuracy: 0.9708 - loss: 0.3819 - val_accuracy: 0.9967 - val_loss: 0.1000 - learning_rate: 0.0100\n",
            "Epoch 4/30\n",
            "\u001b[1m75/75\u001b[0m \u001b[32m━━━━━━━━━━━━━━━━━━━━\u001b[0m\u001b[37m\u001b[0m \u001b[1m0s\u001b[0m 4ms/step - accuracy: 0.9929 - loss: 0.1490\n",
            "Epoch 4: val_loss did not improve from 0.07032\n",
            "\u001b[1m75/75\u001b[0m \u001b[32m━━━━━━━━━━━━━━━━━━━━\u001b[0m\u001b[37m\u001b[0m \u001b[1m0s\u001b[0m 6ms/step - accuracy: 0.9929 - loss: 0.1485 - val_accuracy: 0.9933 - val_loss: 0.0908 - learning_rate: 0.0050\n",
            "Epoch 5/30\n",
            "\u001b[1m71/75\u001b[0m \u001b[32m━━━━━━━━━━━━━━━━━━\u001b[0m\u001b[37m━━\u001b[0m \u001b[1m0s\u001b[0m 5ms/step - accuracy: 0.9964 - loss: 0.0951\n",
            "Epoch 5: val_loss improved from 0.07032 to 0.06779, saving model to best_model.keras\n",
            "\u001b[1m75/75\u001b[0m \u001b[32m━━━━━━━━━━━━━━━━━━━━\u001b[0m\u001b[37m\u001b[0m \u001b[1m1s\u001b[0m 8ms/step - accuracy: 0.9964 - loss: 0.0949 - val_accuracy: 0.9967 - val_loss: 0.0678 - learning_rate: 0.0050\n",
            "Epoch 6/30\n",
            "\u001b[1m65/75\u001b[0m \u001b[32m━━━━━━━━━━━━━━━━━\u001b[0m\u001b[37m━━━\u001b[0m \u001b[1m0s\u001b[0m 4ms/step - accuracy: 0.9963 - loss: 0.0904\n",
            "Epoch 6: val_loss improved from 0.06779 to 0.05351, saving model to best_model.keras\n",
            "\u001b[1m75/75\u001b[0m \u001b[32m━━━━━━━━━━━━━━━━━━━━\u001b[0m\u001b[37m\u001b[0m \u001b[1m1s\u001b[0m 7ms/step - accuracy: 0.9963 - loss: 0.0895 - val_accuracy: 0.9967 - val_loss: 0.0535 - learning_rate: 0.0050\n",
            "Epoch 7/30\n",
            "\u001b[1m74/75\u001b[0m \u001b[32m━━━━━━━━━━━━━━━━━━━\u001b[0m\u001b[37m━\u001b[0m \u001b[1m0s\u001b[0m 4ms/step - accuracy: 0.9970 - loss: 0.0766\n",
            "Epoch 7: val_loss improved from 0.05351 to 0.05105, saving model to best_model.keras\n",
            "\u001b[1m75/75\u001b[0m \u001b[32m━━━━━━━━━━━━━━━━━━━━\u001b[0m\u001b[37m\u001b[0m \u001b[1m1s\u001b[0m 8ms/step - accuracy: 0.9970 - loss: 0.0766 - val_accuracy: 0.9967 - val_loss: 0.0511 - learning_rate: 0.0050\n",
            "Epoch 8/30\n",
            "\u001b[1m65/75\u001b[0m \u001b[32m━━━━━━━━━━━━━━━━━\u001b[0m\u001b[37m━━━\u001b[0m \u001b[1m0s\u001b[0m 4ms/step - accuracy: 0.9883 - loss: 0.0784\n",
            "Epoch 8: val_loss did not improve from 0.05105\n",
            "\u001b[1m75/75\u001b[0m \u001b[32m━━━━━━━━━━━━━━━━━━━━\u001b[0m\u001b[37m\u001b[0m \u001b[1m0s\u001b[0m 5ms/step - accuracy: 0.9886 - loss: 0.0782 - val_accuracy: 0.9933 - val_loss: 0.0655 - learning_rate: 0.0050\n",
            "Epoch 9/30\n",
            "\u001b[1m65/75\u001b[0m \u001b[32m━━━━━━━━━━━━━━━━━\u001b[0m\u001b[37m━━━\u001b[0m \u001b[1m0s\u001b[0m 3ms/step - accuracy: 0.9931 - loss: 0.0938\n",
            "Epoch 9: ReduceLROnPlateau reducing learning rate to 0.0024999999441206455.\n",
            "\n",
            "Epoch 9: val_loss did not improve from 0.05105\n",
            "\u001b[1m75/75\u001b[0m \u001b[32m━━━━━━━━━━━━━━━━━━━━\u001b[0m\u001b[37m\u001b[0m \u001b[1m0s\u001b[0m 5ms/step - accuracy: 0.9934 - loss: 0.0950 - val_accuracy: 0.9599 - val_loss: 0.1555 - learning_rate: 0.0050\n",
            "Epoch 10/30\n",
            "\u001b[1m65/75\u001b[0m \u001b[32m━━━━━━━━━━━━━━━━━\u001b[0m\u001b[37m━━━\u001b[0m \u001b[1m0s\u001b[0m 3ms/step - accuracy: 0.9996 - loss: 0.0612\n",
            "Epoch 10: val_loss did not improve from 0.05105\n",
            "\u001b[1m75/75\u001b[0m \u001b[32m━━━━━━━━━━━━━━━━━━━━\u001b[0m\u001b[37m\u001b[0m \u001b[1m1s\u001b[0m 5ms/step - accuracy: 0.9993 - loss: 0.0617 - val_accuracy: 0.9933 - val_loss: 0.0605 - learning_rate: 0.0025\n",
            "Epoch 11/30\n",
            "\u001b[1m64/75\u001b[0m \u001b[32m━━━━━━━━━━━━━━━━━\u001b[0m\u001b[37m━━━\u001b[0m \u001b[1m0s\u001b[0m 3ms/step - accuracy: 0.9989 - loss: 0.0522\n",
            "Epoch 11: val_loss improved from 0.05105 to 0.04251, saving model to best_model.keras\n",
            "\u001b[1m75/75\u001b[0m \u001b[32m━━━━━━━━━━━━━━━━━━━━\u001b[0m\u001b[37m\u001b[0m \u001b[1m1s\u001b[0m 5ms/step - accuracy: 0.9984 - loss: 0.0531 - val_accuracy: 0.9967 - val_loss: 0.0425 - learning_rate: 0.0025\n",
            "Epoch 12/30\n",
            "\u001b[1m64/75\u001b[0m \u001b[32m━━━━━━━━━━━━━━━━━\u001b[0m\u001b[37m━━━\u001b[0m \u001b[1m0s\u001b[0m 3ms/step - accuracy: 0.9990 - loss: 0.0557\n",
            "Epoch 12: val_loss improved from 0.04251 to 0.03940, saving model to best_model.keras\n",
            "\u001b[1m75/75\u001b[0m \u001b[32m━━━━━━━━━━━━━━━━━━━━\u001b[0m\u001b[37m\u001b[0m \u001b[1m0s\u001b[0m 6ms/step - accuracy: 0.9990 - loss: 0.0548 - val_accuracy: 1.0000 - val_loss: 0.0394 - learning_rate: 0.0025\n",
            "Epoch 13/30\n",
            "\u001b[1m65/75\u001b[0m \u001b[32m━━━━━━━━━━━━━━━━━\u001b[0m\u001b[37m━━━\u001b[0m \u001b[1m0s\u001b[0m 3ms/step - accuracy: 0.9933 - loss: 0.0516\n",
            "Epoch 13: val_loss did not improve from 0.03940\n",
            "\u001b[1m75/75\u001b[0m \u001b[32m━━━━━━━━━━━━━━━━━━━━\u001b[0m\u001b[37m\u001b[0m \u001b[1m0s\u001b[0m 5ms/step - accuracy: 0.9935 - loss: 0.0516 - val_accuracy: 0.9866 - val_loss: 0.0821 - learning_rate: 0.0025\n",
            "Epoch 14/30\n",
            "\u001b[1m62/75\u001b[0m \u001b[32m━━━━━━━━━━━━━━━━\u001b[0m\u001b[37m━━━━\u001b[0m \u001b[1m0s\u001b[0m 3ms/step - accuracy: 0.9983 - loss: 0.0461\n",
            "Epoch 14: val_loss improved from 0.03940 to 0.03928, saving model to best_model.keras\n",
            "\u001b[1m75/75\u001b[0m \u001b[32m━━━━━━━━━━━━━━━━━━━━\u001b[0m\u001b[37m\u001b[0m \u001b[1m1s\u001b[0m 5ms/step - accuracy: 0.9984 - loss: 0.0457 - val_accuracy: 0.9967 - val_loss: 0.0393 - learning_rate: 0.0025\n",
            "Epoch 15/30\n",
            "\u001b[1m64/75\u001b[0m \u001b[32m━━━━━━━━━━━━━━━━━\u001b[0m\u001b[37m━━━\u001b[0m \u001b[1m0s\u001b[0m 3ms/step - accuracy: 1.0000 - loss: 0.0374\n",
            "Epoch 15: val_loss did not improve from 0.03928\n",
            "\u001b[1m75/75\u001b[0m \u001b[32m━━━━━━━━━━━━━━━━━━━━\u001b[0m\u001b[37m\u001b[0m \u001b[1m1s\u001b[0m 4ms/step - accuracy: 1.0000 - loss: 0.0377 - val_accuracy: 0.9933 - val_loss: 0.0499 - learning_rate: 0.0025\n",
            "Epoch 16/30\n",
            "\u001b[1m65/75\u001b[0m \u001b[32m━━━━━━━━━━━━━━━━━\u001b[0m\u001b[37m━━━\u001b[0m \u001b[1m0s\u001b[0m 3ms/step - accuracy: 1.0000 - loss: 0.0349\n",
            "Epoch 16: val_loss improved from 0.03928 to 0.03768, saving model to best_model.keras\n",
            "\u001b[1m75/75\u001b[0m \u001b[32m━━━━━━━━━━━━━━━━━━━━\u001b[0m\u001b[37m\u001b[0m \u001b[1m1s\u001b[0m 5ms/step - accuracy: 1.0000 - loss: 0.0354 - val_accuracy: 0.9967 - val_loss: 0.0377 - learning_rate: 0.0025\n",
            "Epoch 17/30\n",
            "\u001b[1m65/75\u001b[0m \u001b[32m━━━━━━━━━━━━━━━━━\u001b[0m\u001b[37m━━━\u001b[0m \u001b[1m0s\u001b[0m 3ms/step - accuracy: 0.9983 - loss: 0.0461\n",
            "Epoch 17: val_loss did not improve from 0.03768\n",
            "\u001b[1m75/75\u001b[0m \u001b[32m━━━━━━━━━━━━━━━━━━━━\u001b[0m\u001b[37m\u001b[0m \u001b[1m1s\u001b[0m 4ms/step - accuracy: 0.9981 - loss: 0.0478 - val_accuracy: 0.9967 - val_loss: 0.0520 - learning_rate: 0.0025\n",
            "Epoch 18/30\n",
            "\u001b[1m66/75\u001b[0m \u001b[32m━━━━━━━━━━━━━━━━━\u001b[0m\u001b[37m━━━\u001b[0m \u001b[1m0s\u001b[0m 3ms/step - accuracy: 0.9903 - loss: 0.0669\n",
            "Epoch 18: ReduceLROnPlateau reducing learning rate to 0.0012499999720603228.\n",
            "\n",
            "Epoch 18: val_loss did not improve from 0.03768\n",
            "\u001b[1m75/75\u001b[0m \u001b[32m━━━━━━━━━━━━━━━━━━━━\u001b[0m\u001b[37m\u001b[0m \u001b[1m1s\u001b[0m 4ms/step - accuracy: 0.9903 - loss: 0.0700 - val_accuracy: 0.9933 - val_loss: 0.0638 - learning_rate: 0.0025\n",
            "Epoch 19/30\n",
            "\u001b[1m68/75\u001b[0m \u001b[32m━━━━━━━━━━━━━━━━━━\u001b[0m\u001b[37m━━\u001b[0m \u001b[1m0s\u001b[0m 3ms/step - accuracy: 0.9872 - loss: 0.1374\n",
            "Epoch 19: val_loss did not improve from 0.03768\n",
            "\u001b[1m75/75\u001b[0m \u001b[32m━━━━━━━━━━━━━━━━━━━━\u001b[0m\u001b[37m\u001b[0m \u001b[1m0s\u001b[0m 4ms/step - accuracy: 0.9878 - loss: 0.1342 - val_accuracy: 0.9967 - val_loss: 0.0417 - learning_rate: 0.0012\n",
            "Epoch 20/30\n",
            "\u001b[1m63/75\u001b[0m \u001b[32m━━━━━━━━━━━━━━━━\u001b[0m\u001b[37m━━━━\u001b[0m \u001b[1m0s\u001b[0m 3ms/step - accuracy: 0.9966 - loss: 0.0529\n",
            "Epoch 20: val_loss improved from 0.03768 to 0.03648, saving model to best_model.keras\n",
            "\u001b[1m75/75\u001b[0m \u001b[32m━━━━━━━━━━━━━━━━━━━━\u001b[0m\u001b[37m\u001b[0m \u001b[1m1s\u001b[0m 5ms/step - accuracy: 0.9967 - loss: 0.0520 - val_accuracy: 1.0000 - val_loss: 0.0365 - learning_rate: 0.0012\n",
            "Epoch 21/30\n",
            "\u001b[1m64/75\u001b[0m \u001b[32m━━━━━━━━━━━━━━━━━\u001b[0m\u001b[37m━━━\u001b[0m \u001b[1m0s\u001b[0m 3ms/step - accuracy: 0.9982 - loss: 0.0544\n",
            "Epoch 21: val_loss improved from 0.03648 to 0.03608, saving model to best_model.keras\n",
            "\u001b[1m75/75\u001b[0m \u001b[32m━━━━━━━━━━━━━━━━━━━━\u001b[0m\u001b[37m\u001b[0m \u001b[1m1s\u001b[0m 5ms/step - accuracy: 0.9980 - loss: 0.0533 - val_accuracy: 0.9967 - val_loss: 0.0361 - learning_rate: 0.0012\n",
            "Epoch 22/30\n",
            "\u001b[1m67/75\u001b[0m \u001b[32m━━━━━━━━━━━━━━━━━\u001b[0m\u001b[37m━━━\u001b[0m \u001b[1m0s\u001b[0m 3ms/step - accuracy: 0.9973 - loss: 0.0413\n",
            "Epoch 22: val_loss did not improve from 0.03608\n",
            "\u001b[1m75/75\u001b[0m \u001b[32m━━━━━━━━━━━━━━━━━━━━\u001b[0m\u001b[37m\u001b[0m \u001b[1m1s\u001b[0m 4ms/step - accuracy: 0.9972 - loss: 0.0418 - val_accuracy: 1.0000 - val_loss: 0.0370 - learning_rate: 0.0012\n",
            "Epoch 23/30\n",
            "\u001b[1m65/75\u001b[0m \u001b[32m━━━━━━━━━━━━━━━━━\u001b[0m\u001b[37m━━━\u001b[0m \u001b[1m0s\u001b[0m 3ms/step - accuracy: 0.9960 - loss: 0.0397\n",
            "Epoch 23: val_loss improved from 0.03608 to 0.03304, saving model to best_model.keras\n",
            "\u001b[1m75/75\u001b[0m \u001b[32m━━━━━━━━━━━━━━━━━━━━\u001b[0m\u001b[37m\u001b[0m \u001b[1m0s\u001b[0m 5ms/step - accuracy: 0.9961 - loss: 0.0395 - val_accuracy: 0.9967 - val_loss: 0.0330 - learning_rate: 0.0012\n",
            "Epoch 24/30\n",
            "\u001b[1m65/75\u001b[0m \u001b[32m━━━━━━━━━━━━━━━━━\u001b[0m\u001b[37m━━━\u001b[0m \u001b[1m0s\u001b[0m 3ms/step - accuracy: 0.9963 - loss: 0.0413\n",
            "Epoch 24: val_loss improved from 0.03304 to 0.03006, saving model to best_model.keras\n",
            "\u001b[1m75/75\u001b[0m \u001b[32m━━━━━━━━━━━━━━━━━━━━\u001b[0m\u001b[37m\u001b[0m \u001b[1m0s\u001b[0m 5ms/step - accuracy: 0.9966 - loss: 0.0410 - val_accuracy: 1.0000 - val_loss: 0.0301 - learning_rate: 0.0012\n",
            "Epoch 25/30\n",
            "\u001b[1m67/75\u001b[0m \u001b[32m━━━━━━━━━━━━━━━━━\u001b[0m\u001b[37m━━━\u001b[0m \u001b[1m0s\u001b[0m 3ms/step - accuracy: 0.9969 - loss: 0.0408\n",
            "Epoch 25: val_loss did not improve from 0.03006\n",
            "\u001b[1m75/75\u001b[0m \u001b[32m━━━━━━━━━━━━━━━━━━━━\u001b[0m\u001b[37m\u001b[0m \u001b[1m0s\u001b[0m 4ms/step - accuracy: 0.9970 - loss: 0.0409 - val_accuracy: 0.9967 - val_loss: 0.0343 - learning_rate: 0.0012\n",
            "Epoch 26/30\n",
            "\u001b[1m64/75\u001b[0m \u001b[32m━━━━━━━━━━━━━━━━━\u001b[0m\u001b[37m━━━\u001b[0m \u001b[1m0s\u001b[0m 3ms/step - accuracy: 1.0000 - loss: 0.0300\n",
            "Epoch 26: val_loss improved from 0.03006 to 0.02665, saving model to best_model.keras\n",
            "\u001b[1m75/75\u001b[0m \u001b[32m━━━━━━━━━━━━━━━━━━━━\u001b[0m\u001b[37m\u001b[0m \u001b[1m0s\u001b[0m 5ms/step - accuracy: 1.0000 - loss: 0.0300 - val_accuracy: 1.0000 - val_loss: 0.0267 - learning_rate: 0.0012\n",
            "Epoch 27/30\n",
            "\u001b[1m64/75\u001b[0m \u001b[32m━━━━━━━━━━━━━━━━━\u001b[0m\u001b[37m━━━\u001b[0m \u001b[1m0s\u001b[0m 3ms/step - accuracy: 0.9980 - loss: 0.0352\n",
            "Epoch 27: val_loss improved from 0.02665 to 0.02503, saving model to best_model.keras\n",
            "\u001b[1m75/75\u001b[0m \u001b[32m━━━━━━━━━━━━━━━━━━━━\u001b[0m\u001b[37m\u001b[0m \u001b[1m1s\u001b[0m 7ms/step - accuracy: 0.9982 - loss: 0.0346 - val_accuracy: 1.0000 - val_loss: 0.0250 - learning_rate: 0.0012\n",
            "Epoch 28/30\n",
            "\u001b[1m71/75\u001b[0m \u001b[32m━━━━━━━━━━━━━━━━━━\u001b[0m\u001b[37m━━\u001b[0m \u001b[1m0s\u001b[0m 4ms/step - accuracy: 0.9993 - loss: 0.0324\n",
            "Epoch 28: val_loss did not improve from 0.02503\n",
            "\u001b[1m75/75\u001b[0m \u001b[32m━━━━━━━━━━━━━━━━━━━━\u001b[0m\u001b[37m\u001b[0m \u001b[1m1s\u001b[0m 7ms/step - accuracy: 0.9993 - loss: 0.0330 - val_accuracy: 0.9866 - val_loss: 0.0732 - learning_rate: 0.0012\n",
            "Epoch 29/30\n",
            "\u001b[1m73/75\u001b[0m \u001b[32m━━━━━━━━━━━━━━━━━━━\u001b[0m\u001b[37m━\u001b[0m \u001b[1m0s\u001b[0m 4ms/step - accuracy: 0.9986 - loss: 0.0330\n",
            "Epoch 29: ReduceLROnPlateau reducing learning rate to 0.0006249999860301614.\n",
            "\n",
            "Epoch 29: val_loss did not improve from 0.02503\n",
            "\u001b[1m75/75\u001b[0m \u001b[32m━━━━━━━━━━━━━━━━━━━━\u001b[0m\u001b[37m\u001b[0m \u001b[1m1s\u001b[0m 7ms/step - accuracy: 0.9986 - loss: 0.0330 - val_accuracy: 1.0000 - val_loss: 0.0261 - learning_rate: 0.0012\n",
            "Epoch 30/30\n",
            "\u001b[1m73/75\u001b[0m \u001b[32m━━━━━━━━━━━━━━━━━━━\u001b[0m\u001b[37m━\u001b[0m \u001b[1m0s\u001b[0m 4ms/step - accuracy: 0.9996 - loss: 0.0275\n",
            "Epoch 30: val_loss did not improve from 0.02503\n",
            "\u001b[1m75/75\u001b[0m \u001b[32m━━━━━━━━━━━━━━━━━━━━\u001b[0m\u001b[37m\u001b[0m \u001b[1m1s\u001b[0m 6ms/step - accuracy: 0.9996 - loss: 0.0276 - val_accuracy: 1.0000 - val_loss: 0.0272 - learning_rate: 6.2500e-04\n",
            "Restoring model weights from the end of the best epoch: 27.\n"
          ]
        },
        {
          "output_type": "display_data",
          "data": {
            "text/plain": [
              "<Figure size 640x480 with 1 Axes>"
            ],
            "image/png": "[encoded data removed]"
          },
          "metadata": {}
        },
        {
          "output_type": "display_data",
          "data": {
            "text/plain": [
              "<Figure size 640x480 with 1 Axes>"
            ],
            "image/png": "[encoded data removed]"
          },
          "metadata": {}
        },
        {
          "output_type": "display_data",
          "data": {
            "text/plain": [
              "\u001b[1mModel: \"sequential\"\u001b[0m\n"
            ],
            "text/html": [
              "<pre style=\"white-space:pre;overflow-x:auto;line-height:normal;font-family:Menlo,'DejaVu Sans Mono',consolas,'Courier New',monospace\"><span style=\"font-weight: bold\">Model: \"sequential\"</span>\n",
              "</pre>\n"
            ]
          },
          "metadata": {}
        },
        {
          "output_type": "display_data",
          "data": {
            "text/plain": [
              "┏━━━━━━━━━━━━━━━━━━━━━━━━━━━━━━━━━┳━━━━━━━━━━━━━━━━━━━━━━━━┳━━━━━━━━━━━━━━━┓\n",
              "┃\u001b[1m \u001b[0m\u001b[1mLayer (type)                   \u001b[0m\u001b[1m \u001b[0m┃\u001b[1m \u001b[0m\u001b[1mOutput Shape          \u001b[0m\u001b[1m \u001b[0m┃\u001b[1m \u001b[0m\u001b[1m      Param #\u001b[0m\u001b[1m \u001b[0m┃\n",
              "┡━━━━━━━━━━━━━━━━━━━━━━━━━━━━━━━━━╇━━━━━━━━━━━━━━━━━━━━━━━━╇━━━━━━━━━━━━━━━┩\n",
              "│ conv2d (\u001b[38;5;33mConv2D\u001b[0m)                 │ (\u001b[38;5;45mNone\u001b[0m, \u001b[38;5;34m70\u001b[0m, \u001b[38;5;34m44\u001b[0m, \u001b[38;5;34m16\u001b[0m)     │           \u001b[38;5;34m256\u001b[0m │\n",
              "├─────────────────────────────────┼────────────────────────┼───────────────┤\n",
              "│ max_pooling2d (\u001b[38;5;33mMaxPooling2D\u001b[0m)    │ (\u001b[38;5;45mNone\u001b[0m, \u001b[38;5;34m35\u001b[0m, \u001b[38;5;34m22\u001b[0m, \u001b[38;5;34m16\u001b[0m)     │             \u001b[38;5;34m0\u001b[0m │\n",
              "├─────────────────────────────────┼────────────────────────┼───────────────┤\n",
              "│ batch_normalization             │ (\u001b[38;5;45mNone\u001b[0m, \u001b[38;5;34m35\u001b[0m, \u001b[38;5;34m22\u001b[0m, \u001b[38;5;34m16\u001b[0m)     │            \u001b[38;5;34m64\u001b[0m │\n",
              "│ (\u001b[38;5;33mBatchNormalization\u001b[0m)            │                        │               │\n",
              "├─────────────────────────────────┼────────────────────────┼───────────────┤\n",
              "│ conv2d_1 (\u001b[38;5;33mConv2D\u001b[0m)               │ (\u001b[38;5;45mNone\u001b[0m, \u001b[38;5;34m33\u001b[0m, \u001b[38;5;34m20\u001b[0m, \u001b[38;5;34m32\u001b[0m)     │         \u001b[38;5;34m4,640\u001b[0m │\n",
              "├─────────────────────────────────┼────────────────────────┼───────────────┤\n",
              "│ max_pooling2d_1 (\u001b[38;5;33mMaxPooling2D\u001b[0m)  │ (\u001b[38;5;45mNone\u001b[0m, \u001b[38;5;34m16\u001b[0m, \u001b[38;5;34m10\u001b[0m, \u001b[38;5;34m32\u001b[0m)     │             \u001b[38;5;34m0\u001b[0m │\n",
              "├─────────────────────────────────┼────────────────────────┼───────────────┤\n",
              "│ batch_normalization_1           │ (\u001b[38;5;45mNone\u001b[0m, \u001b[38;5;34m16\u001b[0m, \u001b[38;5;34m10\u001b[0m, \u001b[38;5;34m32\u001b[0m)     │           \u001b[38;5;34m128\u001b[0m │\n",
              "│ (\u001b[38;5;33mBatchNormalization\u001b[0m)            │                        │               │\n",
              "├─────────────────────────────────┼────────────────────────┼───────────────┤\n",
              "│ global_average_pooling2d        │ (\u001b[38;5;45mNone\u001b[0m, \u001b[38;5;34m32\u001b[0m)             │             \u001b[38;5;34m0\u001b[0m │\n",
              "│ (\u001b[38;5;33mGlobalAveragePooling2D\u001b[0m)        │                        │               │\n",
              "├─────────────────────────────────┼────────────────────────┼───────────────┤\n",
              "│ dense (\u001b[38;5;33mDense\u001b[0m)                   │ (\u001b[38;5;45mNone\u001b[0m, \u001b[38;5;34m32\u001b[0m)             │         \u001b[38;5;34m1,056\u001b[0m │\n",
              "├─────────────────────────────────┼────────────────────────┼───────────────┤\n",
              "│ dropout (\u001b[38;5;33mDropout\u001b[0m)               │ (\u001b[38;5;45mNone\u001b[0m, \u001b[38;5;34m32\u001b[0m)             │             \u001b[38;5;34m0\u001b[0m │\n",
              "├─────────────────────────────────┼────────────────────────┼───────────────┤\n",
              "│ dense_1 (\u001b[38;5;33mDense\u001b[0m)                 │ (\u001b[38;5;45mNone\u001b[0m, \u001b[38;5;34m3\u001b[0m)              │            \u001b[38;5;34m99\u001b[0m │\n",
              "└─────────────────────────────────┴────────────────────────┴───────────────┘\n"
            ],
            "text/html": [
              "<pre style=\"white-space:pre;overflow-x:auto;line-height:normal;font-family:Menlo,'DejaVu Sans Mono',consolas,'Courier New',monospace\">┏━━━━━━━━━━━━━━━━━━━━━━━━━━━━━━━━━┳━━━━━━━━━━━━━━━━━━━━━━━━┳━━━━━━━━━━━━━━━┓\n",
              "┃<span style=\"font-weight: bold\"> Layer (type)                    </span>┃<span style=\"font-weight: bold\"> Output Shape           </span>┃<span style=\"font-weight: bold\">       Param # </span>┃\n",
              "┡━━━━━━━━━━━━━━━━━━━━━━━━━━━━━━━━━╇━━━━━━━━━━━━━━━━━━━━━━━━╇━━━━━━━━━━━━━━━┩\n",
              "│ conv2d (<span style=\"color: #0087ff; text-decoration-color: #0087ff\">Conv2D</span>)                 │ (<span style=\"color: #00d7ff; text-decoration-color: #00d7ff\">None</span>, <span style=\"color: #00af00; text-decoration-color: #00af00\">70</span>, <span style=\"color: #00af00; text-decoration-color: #00af00\">44</span>, <span style=\"color: #00af00; text-decoration-color: #00af00\">16</span>)     │           <span style=\"color: #00af00; text-decoration-color: #00af00\">256</span> │\n",
              "├─────────────────────────────────┼────────────────────────┼───────────────┤\n",
              "│ max_pooling2d (<span style=\"color: #0087ff; text-decoration-color: #0087ff\">MaxPooling2D</span>)    │ (<span style=\"color: #00d7ff; text-decoration-color: #00d7ff\">None</span>, <span style=\"color: #00af00; text-decoration-color: #00af00\">35</span>, <span style=\"color: #00af00; text-decoration-color: #00af00\">22</span>, <span style=\"color: #00af00; text-decoration-color: #00af00\">16</span>)     │             <span style=\"color: #00af00; text-decoration-color: #00af00\">0</span> │\n",
              "├─────────────────────────────────┼────────────────────────┼───────────────┤\n",
              "│ batch_normalization             │ (<span style=\"color: #00d7ff; text-decoration-color: #00d7ff\">None</span>, <span style=\"color: #00af00; text-decoration-color: #00af00\">35</span>, <span style=\"color: #00af00; text-decoration-color: #00af00\">22</span>, <span style=\"color: #00af00; text-decoration-color: #00af00\">16</span>)     │            <span style=\"color: #00af00; text-decoration-color: #00af00\">64</span> │\n",
              "│ (<span style=\"color: #0087ff; text-decoration-color: #0087ff\">BatchNormalization</span>)            │                        │               │\n",
              "├─────────────────────────────────┼────────────────────────┼───────────────┤\n",
              "│ conv2d_1 (<span style=\"color: #0087ff; text-decoration-color: #0087ff\">Conv2D</span>)               │ (<span style=\"color: #00d7ff; text-decoration-color: #00d7ff\">None</span>, <span style=\"color: #00af00; text-decoration-color: #00af00\">33</span>, <span style=\"color: #00af00; text-decoration-color: #00af00\">20</span>, <span style=\"color: #00af00; text-decoration-color: #00af00\">32</span>)     │         <span style=\"color: #00af00; text-decoration-color: #00af00\">4,640</span> │\n",
              "├─────────────────────────────────┼────────────────────────┼───────────────┤\n",
              "│ max_pooling2d_1 (<span style=\"color: #0087ff; text-decoration-color: #0087ff\">MaxPooling2D</span>)  │ (<span style=\"color: #00d7ff; text-decoration-color: #00d7ff\">None</span>, <span style=\"color: #00af00; text-decoration-color: #00af00\">16</span>, <span style=\"color: #00af00; text-decoration-color: #00af00\">10</span>, <span style=\"color: #00af00; text-decoration-color: #00af00\">32</span>)     │             <span style=\"color: #00af00; text-decoration-color: #00af00\">0</span> │\n",
              "├─────────────────────────────────┼────────────────────────┼───────────────┤\n",
              "│ batch_normalization_1           │ (<span style=\"color: #00d7ff; text-decoration-color: #00d7ff\">None</span>, <span style=\"color: #00af00; text-decoration-color: #00af00\">16</span>, <span style=\"color: #00af00; text-decoration-color: #00af00\">10</span>, <span style=\"color: #00af00; text-decoration-color: #00af00\">32</span>)     │           <span style=\"color: #00af00; text-decoration-color: #00af00\">128</span> │\n",
              "│ (<span style=\"color: #0087ff; text-decoration-color: #0087ff\">BatchNormalization</span>)            │                        │               │\n",
              "├─────────────────────────────────┼────────────────────────┼───────────────┤\n",
              "│ global_average_pooling2d        │ (<span style=\"color: #00d7ff; text-decoration-color: #00d7ff\">None</span>, <span style=\"color: #00af00; text-decoration-color: #00af00\">32</span>)             │             <span style=\"color: #00af00; text-decoration-color: #00af00\">0</span> │\n",
              "│ (<span style=\"color: #0087ff; text-decoration-color: #0087ff\">GlobalAveragePooling2D</span>)        │                        │               │\n",
              "├─────────────────────────────────┼────────────────────────┼───────────────┤\n",
              "│ dense (<span style=\"color: #0087ff; text-decoration-color: #0087ff\">Dense</span>)                   │ (<span style=\"color: #00d7ff; text-decoration-color: #00d7ff\">None</span>, <span style=\"color: #00af00; text-decoration-color: #00af00\">32</span>)             │         <span style=\"color: #00af00; text-decoration-color: #00af00\">1,056</span> │\n",
              "├─────────────────────────────────┼────────────────────────┼───────────────┤\n",
              "│ dropout (<span style=\"color: #0087ff; text-decoration-color: #0087ff\">Dropout</span>)               │ (<span style=\"color: #00d7ff; text-decoration-color: #00d7ff\">None</span>, <span style=\"color: #00af00; text-decoration-color: #00af00\">32</span>)             │             <span style=\"color: #00af00; text-decoration-color: #00af00\">0</span> │\n",
              "├─────────────────────────────────┼────────────────────────┼───────────────┤\n",
              "│ dense_1 (<span style=\"color: #0087ff; text-decoration-color: #0087ff\">Dense</span>)                 │ (<span style=\"color: #00d7ff; text-decoration-color: #00d7ff\">None</span>, <span style=\"color: #00af00; text-decoration-color: #00af00\">3</span>)              │            <span style=\"color: #00af00; text-decoration-color: #00af00\">99</span> │\n",
              "└─────────────────────────────────┴────────────────────────┴───────────────┘\n",
              "</pre>\n"
            ]
          },
          "metadata": {}
        },
        {
          "output_type": "display_data",
          "data": {
            "text/plain": [
              "\u001b[1m Total params: \u001b[0m\u001b[38;5;34m18,539\u001b[0m (72.42 KB)\n"
            ],
            "text/html": [
              "<pre style=\"white-space:pre;overflow-x:auto;line-height:normal;font-family:Menlo,'DejaVu Sans Mono',consolas,'Courier New',monospace\"><span style=\"font-weight: bold\"> Total params: </span><span style=\"color: #00af00; text-decoration-color: #00af00\">18,539</span> (72.42 KB)\n",
              "</pre>\n"
            ]
          },
          "metadata": {}
        },
        {
          "output_type": "display_data",
          "data": {
            "text/plain": [
              "\u001b[1m Trainable params: \u001b[0m\u001b[38;5;34m6,147\u001b[0m (24.01 KB)\n"
            ],
            "text/html": [
              "<pre style=\"white-space:pre;overflow-x:auto;line-height:normal;font-family:Menlo,'DejaVu Sans Mono',consolas,'Courier New',monospace\"><span style=\"font-weight: bold\"> Trainable params: </span><span style=\"color: #00af00; text-decoration-color: #00af00\">6,147</span> (24.01 KB)\n",
              "</pre>\n"
            ]
          },
          "metadata": {}
        },
        {
          "output_type": "display_data",
          "data": {
            "text/plain": [
              "\u001b[1m Non-trainable params: \u001b[0m\u001b[38;5;34m96\u001b[0m (384.00 B)\n"
            ],
            "text/html": [
              "<pre style=\"white-space:pre;overflow-x:auto;line-height:normal;font-family:Menlo,'DejaVu Sans Mono',consolas,'Courier New',monospace\"><span style=\"font-weight: bold\"> Non-trainable params: </span><span style=\"color: #00af00; text-decoration-color: #00af00\">96</span> (384.00 B)\n",
              "</pre>\n"
            ]
          },
          "metadata": {}
        },
        {
          "output_type": "display_data",
          "data": {
            "text/plain": [
              "\u001b[1m Optimizer params: \u001b[0m\u001b[38;5;34m12,296\u001b[0m (48.04 KB)\n"
            ],
            "text/html": [
              "<pre style=\"white-space:pre;overflow-x:auto;line-height:normal;font-family:Menlo,'DejaVu Sans Mono',consolas,'Courier New',monospace\"><span style=\"font-weight: bold\"> Optimizer params: </span><span style=\"color: #00af00; text-decoration-color: #00af00\">12,296</span> (48.04 KB)\n",
              "</pre>\n"
            ]
          },
          "metadata": {}
        }
      ]
    },
    {
      "cell_type": "code",
      "source": [
        "final_train_acc = history.history['accuracy'][-1]\n",
        "final_val_acc = history.history['val_accuracy'][-1]\n",
        "\n",
        "print(f\"Final Training Accuracy: {final_train_acc:.4f}\")\n",
        "print(f\"Final Validation Accuracy: {final_val_acc:.4f}\")"
      ],
      "metadata": {
        "id": "apVsit_mjx5b",
        "colab": {
          "base_uri": "https://localhost:8080/"
        },
        "outputId": "f0f4217b-0bfc-4678-e09a-d18a45adde40"
      },
      "execution_count": null,
      "outputs": [
        {
          "output_type": "stream",
          "name": "stdout",
          "text": [
            "Final Training Accuracy: 0.9992\n",
            "Final Validation Accuracy: 1.0000\n"
          ]
        }
      ]
    },
    {
      "cell_type": "code",
      "source": [
        "# loading Test data\n",
        "\n",
        "npy_path1 = '/content/drive/MyDrive/MPA-MLF_DATA_NEW/MPA-MLF_DATA_NEW/Test'\n",
        "\n",
        "files_test = sorted([f for f in os.listdir(npy_path1)], key=lambda f: int(f.replace('.npy', '')))\n",
        "X_test = [np.load(os.path.join(npy_path1, f)) for f in files_test]\n",
        "\n",
        "X_test = np.stack(X_test)\n",
        "\n",
        "print(X_test.shape)\n",
        "\n",
        "# Flatten\n",
        "X_test_flat = X_test.reshape(X_test.shape[0], -1)\n",
        "\n",
        "X_scaled_flat_test = scaler.fit_transform(X_test_flat)\n",
        "\n",
        "X_scaled_test = X_scaled_flat_test.reshape(X_test.shape)\n",
        "\n",
        "print(X_scaled_test.shape)"
      ],
      "metadata": {
        "id": "MkviprAwMOaA",
        "colab": {
          "base_uri": "https://localhost:8080/"
        },
        "outputId": "0904a042-87bf-452e-d255-d94d7a371883"
      },
      "execution_count": 13,
      "outputs": [
        {
          "output_type": "stream",
          "name": "stdout",
          "text": [
            "(120, 72, 48)\n",
            "(120, 72, 48)\n"
          ]
        }
      ]
    },
    {
      "cell_type": "code",
      "source": [
        "predictions = best_model.predict(X_scaled_test)\n",
        "\n",
        "predicted_classes = np.argmax(predictions, axis=1)\n",
        "\n",
        "print(predicted_classes)\n"
      ],
      "metadata": {
        "id": "tdzrWnH1uyKA",
        "colab": {
          "base_uri": "https://localhost:8080/"
        },
        "outputId": "a01d1719-12be-467d-9cc8-ddbba1878848"
      },
      "execution_count": 19,
      "outputs": [
        {
          "output_type": "stream",
          "name": "stdout",
          "text": [
            "\u001b[1m4/4\u001b[0m \u001b[32m━━━━━━━━━━━━━━━━━━━━\u001b[0m\u001b[37m\u001b[0m \u001b[1m0s\u001b[0m 22ms/step\n",
            "[1 0 1 0 0 0 2 0 2 0 1 1 1 0 1 2 0 2 2 2 0 0 2 1 0 0 2 1 1 1 2 0 2 2 2 0 2\n",
            " 0 0 0 1 2 1 0 1 2 1 0 2 1 1 0 2 0 0 1 0 1 2 0 2 1 1 2 1 1 2 1 0 2 1 1 2 2\n",
            " 2 1 1 2 2 2 0 1 2 2 0 2 0 1 0 2 2 1 2 0 2 0 0 2 0 0 0 0 0 1 2 2 1 0 1 2 2\n",
            " 0 1 1 0 1 2 0 0 1]\n"
          ]
        }
      ]
    },
    {
      "cell_type": "code",
      "source": [
        "\n",
        "# Convert filenames to IDs\n",
        "ids = [int(f.replace('.npy', '')) for f in files_test]\n",
        "predicted_classes = np.array(predicted_classes).flatten()\n",
        "\n",
        "submission_df = pd.DataFrame({\n",
        "    'ID': ids,\n",
        "    'target': predicted_classes\n",
        "})\n",
        "\n",
        "# Sort by ID\n",
        "submission_df = submission_df.sort_values(by='ID')\n",
        "\n",
        "submission_df.to_csv('submission.csv', index=False)\n",
        "\n",
        "# Download\n",
        "from google.colab import files\n",
        "files.download('submission.csv')"
      ],
      "metadata": {
        "id": "gk0FUPGG3bAx",
        "colab": {
          "base_uri": "https://localhost:8080/",
          "height": 17
        },
        "outputId": "fe3dd0d1-50df-40d6-9e64-cdc2197eb9ea"
      },
      "execution_count": 15,
      "outputs": [
        {
          "output_type": "display_data",
          "data": {
            "text/plain": [
              "<IPython.core.display.Javascript object>"
            ],
            "application/javascript": [
              "\n",
              "    async function download(id, filename, size) {\n",
              "      if (!google.colab.kernel.accessAllowed) {\n",
              "        return;\n",
              "      }\n",
              "      const div = document.createElement('div');\n",
              "      const label = document.createElement('label');\n",
              "      label.textContent = `Downloading \"${filename}\": `;\n",
              "      div.appendChild(label);\n",
              "      const progress = document.createElement('progress');\n",
              "      progress.max = size;\n",
              "      div.appendChild(progress);\n",
              "      document.body.appendChild(div);\n",
              "\n",
              "      const buffers = [];\n",
              "      let downloaded = 0;\n",
              "\n",
              "      const channel = await google.colab.kernel.comms.open(id);\n",
              "      // Send a message to notify the kernel that we're ready.\n",
              "      channel.send({})\n",
              "\n",
              "      for await (const message of channel.messages) {\n",
              "        // Send a message to notify the kernel that we're ready.\n",
              "        channel.send({})\n",
              "        if (message.buffers) {\n",
              "          for (const buffer of message.buffers) {\n",
              "            buffers.push(buffer);\n",
              "            downloaded += buffer.byteLength;\n",
              "            progress.value = downloaded;\n",
              "          }\n",
              "        }\n",
              "      }\n",
              "      const blob = new Blob(buffers, {type: 'application/binary'});\n",
              "      const a = document.createElement('a');\n",
              "      a.href = window.URL.createObjectURL(blob);\n",
              "      a.download = filename;\n",
              "      div.appendChild(a);\n",
              "      a.click();\n",
              "      div.remove();\n",
              "    }\n",
              "  "
            ]
          },
          "metadata": {}
        },
        {
          "output_type": "display_data",
          "data": {
            "text/plain": [
              "<IPython.core.display.Javascript object>"
            ],
            "application/javascript": [
              "download(\"download_950261cc-7ae2-4179-8420-49597283f9f3\", \"submission.csv\", 620)"
            ]
          },
          "metadata": {}
        }
      ]
    },
    {
      "cell_type": "code",
      "source": [],
      "metadata": {
        "id": "gWYCchbJ7AoD"
      },
      "execution_count": null,
      "outputs": []
    }
  ]
}